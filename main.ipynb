{
 "cells": [
  {
   "cell_type": "code",
   "id": "initial_id",
   "metadata": {
    "collapsed": true,
    "ExecuteTime": {
     "end_time": "2025-01-16T12:24:31.285032Z",
     "start_time": "2025-01-16T12:24:31.238755Z"
    }
   },
   "source": [
    "import os\n",
    "\n",
    "import music21\n",
    "import numpy as np\n",
    "from src.utils import parse_midi_files,load_parsed_files"
   ],
   "outputs": [],
   "execution_count": 17
  },
  {
   "cell_type": "code",
   "id": "e90aa875476cb421",
   "metadata": {
    "ExecuteTime": {
     "end_time": "2025-01-16T12:24:32.904234Z",
     "start_time": "2025-01-16T12:24:32.899200Z"
    }
   },
   "source": [
    "# Define the paths and constants\n",
    "DATA_PATH = \"data/raw/\"\n",
    "PARSED_DATA_PATH = \"data/parsed\"\n",
    "PARSED_SEQUENCES_DATA_PATH = \"data/parsed_sequences\"\n",
    "VOCAB_PATH = \"data/vocab\"\n",
    "PARSE_MIDI_FILES = False\n",
    "SEQ_LEN = 50\n",
    "BATCH_SIZE = 256\n",
    "EMBEDDING_DIM = 128\n",
    "KEY_DIM = 256\n",
    "N_HEADS = 4\n",
    "DROPOUT_RATE = 0.3\n",
    "FEED_FORWARD_DIM = 256\n",
    "EPOCHS = 1"
   ],
   "outputs": [],
   "execution_count": 18
  },
  {
   "cell_type": "code",
   "id": "3cfea6ded40555d8",
   "metadata": {
    "ExecuteTime": {
     "end_time": "2025-01-16T12:24:34.911304Z",
     "start_time": "2025-01-16T12:24:34.902644Z"
    }
   },
   "source": [
    "# Get the list of midi files\n",
    "file_names = [os.path.join(DATA_PATH,f) for f in os.listdir(DATA_PATH) if f.endswith(\".mid\")]\n",
    "len(file_names)"
   ],
   "outputs": [
    {
     "data": {
      "text/plain": [
       "36"
      ]
     },
     "execution_count": 19,
     "metadata": {},
     "output_type": "execute_result"
    }
   ],
   "execution_count": 19
  },
  {
   "cell_type": "code",
   "id": "6ae454e8178aee25",
   "metadata": {
    "ExecuteTime": {
     "end_time": "2025-01-16T12:24:36.595643Z",
     "start_time": "2025-01-16T12:24:36.593496Z"
    }
   },
   "source": [
    "# define the parser\n",
    "parser = music21.converter"
   ],
   "outputs": [],
   "execution_count": 20
  },
  {
   "cell_type": "code",
   "id": "771244a9ad9d4210",
   "metadata": {
    "ExecuteTime": {
     "end_time": "2025-01-16T12:24:38.470107Z",
     "start_time": "2025-01-16T12:24:38.429352Z"
    }
   },
   "source": [
    "# Parse the midi files\n",
    "if PARSE_MIDI_FILES:\n",
    "    sequence_notes, sequence_durations = parse_midi_files(\n",
    "        file_names, parser, SEQ_LEN + 1, PARSED_SEQUENCES_DATA_PATH\n",
    "    )\n",
    "else:\n",
    "    sequence_notes, sequence_durations = load_parsed_files(PARSED_SEQUENCES_DATA_PATH)\n",
    "len(sequence_notes),len(sequence_durations)"
   ],
   "outputs": [
    {
     "data": {
      "text/plain": [
       "(27581, 27581)"
      ]
     },
     "execution_count": 21,
     "metadata": {},
     "output_type": "execute_result"
    }
   ],
   "execution_count": 21
  },
  {
   "metadata": {
    "ExecuteTime": {
     "end_time": "2025-01-16T12:24:44.434972Z",
     "start_time": "2025-01-16T12:24:44.429736Z"
    }
   },
   "cell_type": "code",
   "source": [
    "example_notes = sequence_notes[658]\n",
    "example_durations = sequence_durations[658]\n",
    "print(\"\\nNotes string\\n\", example_notes, \"...\")\n",
    "print(\"\\nDuration string\\n\", example_durations, \"...\")"
   ],
   "id": "ee689058fd59ed0c",
   "outputs": [
    {
     "name": "stdout",
     "output_type": "stream",
     "text": [
      "\n",
      "Notes string\n",
      " G3 B3 C4 G3 E3 D3 C3 E3 A3 C4 F#3 A3 C4 E4 D4 C3 B2 G3 A2 G2 D2 A2 G3 F#3 G3 G2 B2 D3 G3 B3 D4 F#4 G4 D4 B3 G3 G2 A3 A3 F#3 G3 A3 D3 E3 F#3 G3 A3 F#3 D3 C3 B2 ...\n",
      "\n",
      "Duration string\n",
      " 0.25 0.25 0.25 0.25 0.25 0.25 0.25 0.25 0.25 0.25 0.25 0.25 0.25 0.25 0.75 0.25 0.25 0.25 0.25 0.25 0.25 0.25 0.25 0.25 0.25 0.25 0.25 0.25 0.25 0.25 0.25 0.25 0.25 0.25 0.25 0.25 0.75 0.25 1.25 0.25 0.25 0.25 0.25 0.25 0.25 0.25 0.25 0.25 0.25 0.25 0.25 ...\n"
     ]
    }
   ],
   "execution_count": 22
  },
  {
   "metadata": {
    "ExecuteTime": {
     "end_time": "2025-01-16T12:24:53.376863Z",
     "start_time": "2025-01-16T12:24:53.225584Z"
    }
   },
   "cell_type": "code",
   "source": [
    "from src.vectorization import VectorizeLayer\n",
    "\n",
    "# Create the vectorizer layer for notes\n",
    "notes_vectorizer = VectorizeLayer(special_tokens=[\"[UNK]\",\"\"])\n",
    "notes_vectorizer.adapt(sequence_notes)\n",
    "notes_vectorizer.save_vocab(os.path.join(VOCAB_PATH,\"notes_vocab.json\"))\n",
    "\n",
    "# Create the vectorizer layer for durations\n",
    "durations_vectorizer = VectorizeLayer(special_tokens=[\"[UNK]\",\"\"])\n",
    "durations_vectorizer.adapt(sequence_durations)\n",
    "durations_vectorizer.save_vocab(os.path.join(VOCAB_PATH,\"durations_vocab.json\"))\n",
    "\n",
    "len(notes_vectorizer.vocab),len(durations_vectorizer.vocab)"
   ],
   "id": "f8c68fe5cc157501",
   "outputs": [
    {
     "name": "stdout",
     "output_type": "stream",
     "text": [
      "Vocab saved to data/vocab/notes_vocab.json\n",
      "Vocab saved to data/vocab/durations_vocab.json\n"
     ]
    },
    {
     "data": {
      "text/plain": [
       "(59, 24)"
      ]
     },
     "execution_count": 25,
     "metadata": {},
     "output_type": "execute_result"
    }
   ],
   "execution_count": 25
  },
  {
   "metadata": {
    "ExecuteTime": {
     "end_time": "2025-01-12T22:18:17.278027Z",
     "start_time": "2025-01-12T22:18:16.909332Z"
    }
   },
   "cell_type": "code",
   "source": [
    "# tokenize the notes and durations\n",
    "notes_tokenized = notes_vectorizer(sequence_notes)\n",
    "durations_tokenised = durations_vectorizer(sequence_durations)\n",
    "notes_tokenized.shape,durations_tokenised.shape"
   ],
   "id": "6f6e0c88bad64a6a",
   "outputs": [
    {
     "data": {
      "text/plain": [
       "(torch.Size([27581, 51]), torch.Size([27581, 51]))"
      ]
     },
     "execution_count": 8,
     "metadata": {},
     "output_type": "execute_result"
    }
   ],
   "execution_count": 8
  },
  {
   "metadata": {
    "ExecuteTime": {
     "end_time": "2025-01-12T22:18:17.291759Z",
     "start_time": "2025-01-12T22:18:17.288383Z"
    }
   },
   "cell_type": "code",
   "source": [
    "from src.dataset import MusicDataset\n",
    "from torch.utils.data import DataLoader\n",
    "\n",
    "# Create a dataset and dataloader\n",
    "dataset = MusicDataset(notes_tokenized,durations_tokenised,SEQ_LEN)\n",
    "dataloader = DataLoader(dataset,batch_size=BATCH_SIZE,shuffle=True)\n",
    "len(dataloader)"
   ],
   "id": "e739a4cabc35ae77",
   "outputs": [
    {
     "data": {
      "text/plain": [
       "108"
      ]
     },
     "execution_count": 9,
     "metadata": {},
     "output_type": "execute_result"
    }
   ],
   "execution_count": 9
  },
  {
   "metadata": {
    "ExecuteTime": {
     "end_time": "2025-01-12T22:18:17.308132Z",
     "start_time": "2025-01-12T22:18:17.302839Z"
    }
   },
   "cell_type": "code",
   "source": [
    "# Get a batch of data\n",
    "x_note,x_duration,y_note,y_duration = next(iter(dataloader))\n",
    "x_note.shape,x_duration.shape,y_note.shape,y_duration.shape"
   ],
   "id": "fe8b5bb52cf3b395",
   "outputs": [
    {
     "data": {
      "text/plain": [
       "(torch.Size([256, 50]),\n",
       " torch.Size([256, 50]),\n",
       " torch.Size([256, 50]),\n",
       " torch.Size([256, 50]))"
      ]
     },
     "execution_count": 10,
     "metadata": {},
     "output_type": "execute_result"
    }
   ],
   "execution_count": 10
  },
  {
   "metadata": {
    "ExecuteTime": {
     "end_time": "2025-01-12T22:18:17.327728Z",
     "start_time": "2025-01-12T22:18:17.317840Z"
    }
   },
   "cell_type": "code",
   "source": [
    "from src.embedding import TokenAndPositionEmbedding\n",
    "\n",
    "# Define the embedding layers\n",
    "embed_notes_layer = TokenAndPositionEmbedding(notes_vectorizer.vocab_size,embed_dim=128)\n",
    "embed_durations_layer = TokenAndPositionEmbedding(durations_vectorizer.vocab_size,embed_dim=128)\n"
   ],
   "id": "9c43270e817d20f5",
   "outputs": [],
   "execution_count": 11
  },
  {
   "metadata": {
    "ExecuteTime": {
     "end_time": "2025-01-12T22:18:17.577875Z",
     "start_time": "2025-01-12T22:18:17.388861Z"
    }
   },
   "cell_type": "code",
   "source": [
    "import matplotlib.pyplot as plt\n",
    "\n",
    "# visualize the embedding layers\n",
    "embedding_example = embed_notes_layer(x_note)\n",
    "\n",
    "plt.imshow(\n",
    "    np.transpose(embedding_example.detach().numpy()[0]),\n",
    "    cmap=\"coolwarm\",\n",
    "    interpolation=\"nearest\",\n",
    "    origin=\"lower\",\n",
    ")\n",
    "plt.show()"
   ],
   "id": "a30422cb2791f572",
   "outputs": [
    {
     "data": {
      "text/plain": [
       "<Figure size 640x480 with 1 Axes>"
      ],
      "image/png": "[encoded data removed]"
     },
     "metadata": {
      "image/png": {
       "width": 200,
       "height": 413
      }
     },
     "output_type": "display_data"
    }
   ],
   "execution_count": 12
  },
  {
   "metadata": {
    "ExecuteTime": {
     "end_time": "2025-01-12T22:18:17.592625Z",
     "start_time": "2025-01-12T22:18:17.587846Z"
    }
   },
   "cell_type": "code",
   "source": [
    "from src.model import MusicModel\n",
    "\n",
    "model = MusicModel(notes_vectorizer.vocab_size,durations_vectorizer.vocab_size,EMBEDDING_DIM,N_HEADS,KEY_DIM,FEED_FORWARD_DIM,DROPOUT_RATE)"
   ],
   "id": "1e033aab7c6334c4",
   "outputs": [],
   "execution_count": 13
  },
  {
   "metadata": {
    "ExecuteTime": {
     "end_time": "2025-01-12T22:18:17.596012Z",
     "start_time": "2025-01-12T22:18:17.594644Z"
    }
   },
   "cell_type": "code",
   "source": "",
   "id": "cd470cb466282b8b",
   "outputs": [],
   "execution_count": null
  },
  {
   "metadata": {
    "ExecuteTime": {
     "end_time": "2025-01-12T22:18:17.691617Z",
     "start_time": "2025-01-12T22:18:17.610540Z"
    }
   },
   "cell_type": "code",
   "source": [
    "from torch import nn\n",
    "import torch\n",
    "\n",
    "# Create the model\n",
    "x_note,x_duration,y_note,y_duration = next(iter(dataloader))\n",
    "out_note,out_duration,att_score = model(x_note,x_duration)\n",
    "out_note.shape,out_duration.shape,att_score.shape"
   ],
   "id": "5ecca04b75b27683",
   "outputs": [
    {
     "data": {
      "text/plain": [
       "(torch.Size([256, 50, 59]),\n",
       " torch.Size([256, 50, 24]),\n",
       " torch.Size([256, 50, 50]))"
      ]
     },
     "execution_count": 14,
     "metadata": {},
     "output_type": "execute_result"
    }
   ],
   "execution_count": 14
  },
  {
   "metadata": {
    "ExecuteTime": {
     "end_time": "2025-01-12T22:18:18.245403Z",
     "start_time": "2025-01-12T22:18:17.694916Z"
    }
   },
   "cell_type": "code",
   "source": [
    "loss_fn = nn.CrossEntropyLoss()\n",
    "optimizer = torch.optim.Adam(model.parameters(),lr=1e-4)"
   ],
   "id": "902acb64080e9d8a",
   "outputs": [],
   "execution_count": 15
  },
  {
   "metadata": {
    "ExecuteTime": {
     "end_time": "2025-01-12T22:20:23.017217Z",
     "start_time": "2025-01-12T22:18:18.254745Z"
    }
   },
   "cell_type": "code",
   "source": [
    "\n",
    "from src.trainer import MusicTrainer\n",
    "\n",
    "trainer = MusicTrainer(model=model,\n",
    "                       train_loader=dataloader,\n",
    "                       optimizer=optimizer,\n",
    "                       loss_fn=loss_fn,\n",
    "                       device=\"cpu\",\n",
    "                       note_vocab_size=notes_vectorizer.vocab_size,\n",
    "                       duration_vocab_size=durations_vectorizer.vocab_size,\n",
    "                       save_freq=1,\n",
    "                       checkpoint_dir=\"checkpoints\",\n",
    "                       remove_previous_models=True)\n",
    "\n",
    "trainer.train(10)\n"
   ],
   "id": "30d2bc7d0d308128",
   "outputs": [
    {
     "name": "stdout",
     "output_type": "stream",
     "text": [
      "Checkpoint loaded from  checkpoint_1.pt\n"
     ]
    },
    {
     "name": "stderr",
     "output_type": "stream",
     "text": [
      "Epoch 1: 100%|██████████| 108/108 [00:12<00:00,  8.43it/s, duration=0.592, note=2.85, total=3.44]\n",
      "Epoch 2: 100%|██████████| 108/108 [00:12<00:00,  8.36it/s, duration=0.646, note=2.62, total=3.27]\n",
      "Epoch 3: 100%|██████████| 108/108 [00:13<00:00,  8.14it/s, duration=0.518, note=2.53, total=3.05]\n",
      "Epoch 4: 100%|██████████| 108/108 [00:13<00:00,  7.84it/s, duration=0.558, note=2.46, total=3.02]\n",
      "Epoch 5: 100%|██████████| 108/108 [00:14<00:00,  7.43it/s, duration=0.506, note=2.41, total=2.92]\n",
      "Epoch 6: 100%|██████████| 108/108 [00:14<00:00,  7.41it/s, duration=0.503, note=2.39, total=2.89]\n",
      "Epoch 7: 100%|██████████| 108/108 [00:13<00:00,  7.90it/s, duration=0.559, note=2.43, total=2.99]\n",
      "Epoch 8: 100%|██████████| 108/108 [00:14<00:00,  7.66it/s, duration=0.517, note=2.36, total=2.88]\n",
      "Epoch 9: 100%|██████████| 108/108 [00:14<00:00,  7.23it/s, duration=0.52, note=2.29, total=2.81] \n"
     ]
    }
   ],
   "execution_count": 16
  }
 ],
 "metadata": {
  "kernelspec": {
   "display_name": ".venv",
   "language": "python",
   "name": "python3"
  },
  "language_info": {
   "codemirror_mode": {
    "name": "ipython",
    "version": 3
   },
   "file_extension": ".py",
   "mimetype": "text/x-python",
   "name": "python",
   "nbconvert_exporter": "python",
   "pygments_lexer": "ipython3",
   "version": "3.12.3"
  }
 },
 "nbformat": 4,
 "nbformat_minor": 5
}
