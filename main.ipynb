{
 "cells": [
  {
   "cell_type": "code",
   "id": "initial_id",
   "metadata": {
    "collapsed": true,
    "ExecuteTime": {
     "end_time": "2025-01-18T09:50:24.097137Z",
     "start_time": "2025-01-18T09:50:24.094506Z"
    }
   },
   "source": [
    "import os\n",
    "\n",
    "import torch\n",
    "\n",
    "import music21\n",
    "import numpy as np\n",
    "from src.utils import parse_midi_files,load_parsed_files"
   ],
   "outputs": [],
   "execution_count": 12
  },
  {
   "cell_type": "code",
   "id": "e90aa875476cb421",
   "metadata": {
    "ExecuteTime": {
     "end_time": "2025-01-18T09:59:01.650004Z",
     "start_time": "2025-01-18T09:59:01.647075Z"
    }
   },
   "source": [
    "# Define the paths and constants\n",
    "DATA_PATH = \"data/raw/\"\n",
    "PARSED_DATA_PATH = \"data/parsed\"\n",
    "PARSED_SEQUENCES_DATA_PATH = \"data/parsed_sequences\"\n",
    "VOCAB_PATH = \"data/vocab\"\n",
    "PARSE_MIDI_FILES = False\n",
    "SEQ_LEN = 50\n",
    "BATCH_SIZE = 256\n",
    "EMBEDDING_DIM = 128\n",
    "KEY_DIM = 256\n",
    "N_HEADS = 4\n",
    "DROPOUT_RATE = 0.3\n",
    "FEED_FORWARD_DIM = 256\n",
    "EPOCHS = 1\n",
    "DEVICE = torch.device(\"cuda\" if torch.cuda.is_available() else \"cpu\")\n",
    "GENERATE_LEN = 50"
   ],
   "outputs": [],
   "execution_count": 26
  },
  {
   "cell_type": "code",
   "id": "3cfea6ded40555d8",
   "metadata": {
    "ExecuteTime": {
     "end_time": "2025-01-18T09:49:31.629705Z",
     "start_time": "2025-01-18T09:49:31.626081Z"
    }
   },
   "source": [
    "# Get the list of midi files\n",
    "file_names = [os.path.join(DATA_PATH,f) for f in os.listdir(DATA_PATH) if f.endswith(\".mid\")]\n",
    "len(file_names)"
   ],
   "outputs": [
    {
     "data": {
      "text/plain": [
       "36"
      ]
     },
     "execution_count": 3,
     "metadata": {},
     "output_type": "execute_result"
    }
   ],
   "execution_count": 3
  },
  {
   "cell_type": "code",
   "id": "6ae454e8178aee25",
   "metadata": {
    "ExecuteTime": {
     "end_time": "2025-01-18T09:49:33.684709Z",
     "start_time": "2025-01-18T09:49:33.682876Z"
    }
   },
   "source": [
    "# define the parser\n",
    "parser = music21.converter"
   ],
   "outputs": [],
   "execution_count": 4
  },
  {
   "cell_type": "code",
   "id": "771244a9ad9d4210",
   "metadata": {
    "ExecuteTime": {
     "end_time": "2025-01-18T09:49:35.276553Z",
     "start_time": "2025-01-18T09:49:35.262502Z"
    }
   },
   "source": [
    "# Parse the midi files\n",
    "if PARSE_MIDI_FILES:\n",
    "    sequence_notes, sequence_durations = parse_midi_files(\n",
    "        file_names, parser, SEQ_LEN + 1, PARSED_SEQUENCES_DATA_PATH\n",
    "    )\n",
    "else:\n",
    "    sequence_notes, sequence_durations = load_parsed_files(PARSED_SEQUENCES_DATA_PATH)\n",
    "len(sequence_notes),len(sequence_durations)"
   ],
   "outputs": [
    {
     "data": {
      "text/plain": [
       "(27581, 27581)"
      ]
     },
     "execution_count": 5,
     "metadata": {},
     "output_type": "execute_result"
    }
   ],
   "execution_count": 5
  },
  {
   "metadata": {
    "ExecuteTime": {
     "end_time": "2025-01-18T09:49:37.210910Z",
     "start_time": "2025-01-18T09:49:37.208487Z"
    }
   },
   "cell_type": "code",
   "source": [
    "example_notes = sequence_notes[658]\n",
    "example_durations = sequence_durations[658]\n",
    "print(\"\\nNotes string\\n\", example_notes, \"...\")\n",
    "print(\"\\nDuration string\\n\", example_durations, \"...\")"
   ],
   "id": "ee689058fd59ed0c",
   "outputs": [
    {
     "name": "stdout",
     "output_type": "stream",
     "text": [
      "\n",
      "Notes string\n",
      " E-3 F3 G3 G#3 F3 G3 F3 E-3 D3 C3 B-2 G#2 C3 D3 E-3 G2 F2 G2 E-2 F2 A2 B2 C3 E-2 D2 E-2 C2 D2 E-2 F2 G2 G#2 F2 B2 C3 D3 E-3 F3 D3 E-3 F3 D3 E-3 F3 D3 E-3 D3 C3 D3 E-3 F3 ...\n",
      "\n",
      "Duration string\n",
      " 0.25 0.25 0.25 0.25 0.25 0.25 0.25 0.25 0.25 0.25 0.25 0.5 0.5 0.5 0.5 0.25 0.25 0.25 0.25 0.5 0.5 0.5 0.5 0.25 0.25 0.25 0.25 0.25 0.25 0.25 0.25 0.25 0.25 0.25 0.25 0.25 0.25 0.25 0.25 0.25 0.25 0.25 0.25 0.25 0.25 0.25 0.25 0.25 0.25 0.25 0.25 ...\n"
     ]
    }
   ],
   "execution_count": 6
  },
  {
   "metadata": {
    "ExecuteTime": {
     "end_time": "2025-01-18T09:49:43.685554Z",
     "start_time": "2025-01-18T09:49:42.325098Z"
    }
   },
   "cell_type": "code",
   "source": [
    "from src.vectorization import VectorizeLayer\n",
    "\n",
    "# Create the vectorizer layer for notes\n",
    "notes_vectorizer = VectorizeLayer(special_tokens=[\"[UNK]\",\"\"])\n",
    "notes_vectorizer.adapt(sequence_notes)\n",
    "notes_vectorizer.save_vocab(os.path.join(VOCAB_PATH,\"notes_vocab.json\"))\n",
    "\n",
    "# Create the vectorizer layer for durations\n",
    "durations_vectorizer = VectorizeLayer(special_tokens=[\"[UNK]\",\"\"])\n",
    "durations_vectorizer.adapt(sequence_durations)\n",
    "durations_vectorizer.save_vocab(os.path.join(VOCAB_PATH,\"durations_vocab.json\"))\n",
    "\n",
    "len(notes_vectorizer.vocab),len(durations_vectorizer.vocab)"
   ],
   "id": "f8c68fe5cc157501",
   "outputs": [
    {
     "name": "stdout",
     "output_type": "stream",
     "text": [
      "Vocab saved to data/vocab/notes_vocab.json\n",
      "Vocab saved to data/vocab/durations_vocab.json\n"
     ]
    },
    {
     "data": {
      "text/plain": [
       "(59, 24)"
      ]
     },
     "execution_count": 7,
     "metadata": {},
     "output_type": "execute_result"
    }
   ],
   "execution_count": 7
  },
  {
   "metadata": {
    "ExecuteTime": {
     "end_time": "2025-01-18T09:50:49.876843Z",
     "start_time": "2025-01-18T09:50:49.151551Z"
    }
   },
   "cell_type": "code",
   "source": [
    "# tokenize the notes and durations\n",
    "notes_tokenized = notes_vectorizer(sequence_notes)\n",
    "durations_tokenised = durations_vectorizer(sequence_durations)\n",
    "notes_tokenized.shape,durations_tokenised.shape"
   ],
   "id": "6f6e0c88bad64a6a",
   "outputs": [
    {
     "data": {
      "text/plain": [
       "(torch.Size([27581, 51]), torch.Size([27581, 51]))"
      ]
     },
     "execution_count": 14,
     "metadata": {},
     "output_type": "execute_result"
    }
   ],
   "execution_count": 14
  },
  {
   "metadata": {
    "ExecuteTime": {
     "end_time": "2025-01-18T09:49:48.565669Z",
     "start_time": "2025-01-18T09:49:48.561416Z"
    }
   },
   "cell_type": "code",
   "source": [
    "from src.dataset import MusicDataset\n",
    "from torch.utils.data import DataLoader\n",
    "\n",
    "# Create a dataset and dataloader\n",
    "dataset = MusicDataset(notes_tokenized,durations_tokenised,SEQ_LEN)\n",
    "dataloader = DataLoader(dataset,batch_size=BATCH_SIZE,shuffle=True)\n",
    "len(dataloader)"
   ],
   "id": "e739a4cabc35ae77",
   "outputs": [
    {
     "data": {
      "text/plain": [
       "108"
      ]
     },
     "execution_count": 9,
     "metadata": {},
     "output_type": "execute_result"
    }
   ],
   "execution_count": 9
  },
  {
   "metadata": {
    "ExecuteTime": {
     "end_time": "2025-01-18T09:50:56.829121Z",
     "start_time": "2025-01-18T09:50:56.818197Z"
    }
   },
   "cell_type": "code",
   "source": [
    "# Get a batch of data\n",
    "x_note,x_duration,y_note,y_duration = next(iter(dataloader))\n",
    "x_note.shape,x_duration.shape,y_note.shape,y_duration.shape"
   ],
   "id": "fe8b5bb52cf3b395",
   "outputs": [
    {
     "data": {
      "text/plain": [
       "(torch.Size([256, 50]),\n",
       " torch.Size([256, 50]),\n",
       " torch.Size([256, 50]),\n",
       " torch.Size([256, 50]))"
      ]
     },
     "execution_count": 15,
     "metadata": {},
     "output_type": "execute_result"
    }
   ],
   "execution_count": 15
  },
  {
   "metadata": {
    "ExecuteTime": {
     "end_time": "2025-01-18T09:51:14.692660Z",
     "start_time": "2025-01-18T09:51:14.562Z"
    }
   },
   "cell_type": "code",
   "source": [
    "from src.embedding import TokenAndPositionEmbedding\n",
    "\n",
    "# Define the embedding layers\n",
    "embed_notes_layer = TokenAndPositionEmbedding(notes_vectorizer.vocab_size,embed_dim=128,device=DEVICE)\n",
    "embed_durations_layer = TokenAndPositionEmbedding(durations_vectorizer.vocab_size,embed_dim=128,device=DEVICE)\n"
   ],
   "id": "9c43270e817d20f5",
   "outputs": [],
   "execution_count": 17
  },
  {
   "metadata": {
    "ExecuteTime": {
     "end_time": "2025-01-18T09:51:46.150850Z",
     "start_time": "2025-01-18T09:51:46.027681Z"
    }
   },
   "cell_type": "code",
   "source": [
    "import matplotlib.pyplot as plt\n",
    "\n",
    "# visualize the embedding layers\n",
    "embedding_example = embed_notes_layer(x_note)\n",
    "\n",
    "plt.imshow(\n",
    "    np.transpose(embedding_example.to(\"cpu\").detach().numpy()[0]),\n",
    "    cmap=\"coolwarm\",\n",
    "    interpolation=\"nearest\",\n",
    "    origin=\"lower\",\n",
    ")\n",
    "plt.show()"
   ],
   "id": "a30422cb2791f572",
   "outputs": [
    {
     "data": {
      "text/plain": [
       "<Figure size 640x480 with 1 Axes>"
      ],
      "image/png": "[encoded data removed]"
     },
     "metadata": {
      "image/png": {
       "width": 200,
       "height": 413
      }
     },
     "output_type": "display_data"
    }
   ],
   "execution_count": 19
  },
  {
   "metadata": {
    "ExecuteTime": {
     "end_time": "2025-01-18T09:52:19.809533Z",
     "start_time": "2025-01-18T09:52:19.803617Z"
    }
   },
   "cell_type": "code",
   "source": [
    "from src.model import MusicModel\n",
    "\n",
    "model = MusicModel(notes_vectorizer.vocab_size,durations_vectorizer.vocab_size,EMBEDDING_DIM,N_HEADS,KEY_DIM,FEED_FORWARD_DIM,DROPOUT_RATE,device=DEVICE)"
   ],
   "id": "1e033aab7c6334c4",
   "outputs": [],
   "execution_count": 21
  },
  {
   "metadata": {
    "ExecuteTime": {
     "end_time": "2025-01-12T22:18:17.596012Z",
     "start_time": "2025-01-12T22:18:17.594644Z"
    }
   },
   "cell_type": "code",
   "source": "",
   "id": "cd470cb466282b8b",
   "outputs": [],
   "execution_count": null
  },
  {
   "metadata": {
    "ExecuteTime": {
     "end_time": "2025-01-18T09:52:23.396047Z",
     "start_time": "2025-01-18T09:52:23.340152Z"
    }
   },
   "cell_type": "code",
   "source": [
    "from torch import nn\n",
    "import torch\n",
    "\n",
    "# Create the model\n",
    "x_note,x_duration,y_note,y_duration = next(iter(dataloader))\n",
    "out_note,out_duration,att_score = model(x_note,x_duration)\n",
    "out_note.shape,out_duration.shape,att_score.shape"
   ],
   "id": "5ecca04b75b27683",
   "outputs": [
    {
     "data": {
      "text/plain": [
       "(torch.Size([256, 50, 59]),\n",
       " torch.Size([256, 50, 24]),\n",
       " torch.Size([256, 50, 50]))"
      ]
     },
     "execution_count": 22,
     "metadata": {},
     "output_type": "execute_result"
    }
   ],
   "execution_count": 22
  },
  {
   "metadata": {
    "ExecuteTime": {
     "end_time": "2025-01-18T09:52:26.736015Z",
     "start_time": "2025-01-18T09:52:25.590604Z"
    }
   },
   "cell_type": "code",
   "source": [
    "loss_fn = nn.CrossEntropyLoss()\n",
    "optimizer = torch.optim.Adam(model.parameters(),lr=1e-4)"
   ],
   "id": "902acb64080e9d8a",
   "outputs": [],
   "execution_count": 23
  },
  {
   "metadata": {
    "ExecuteTime": {
     "end_time": "2025-01-12T22:20:23.017217Z",
     "start_time": "2025-01-12T22:18:18.254745Z"
    }
   },
   "cell_type": "code",
   "source": [
    "\n",
    "from src.trainer import MusicTrainer\n",
    "\n",
    "trainer = MusicTrainer(model=model,\n",
    "                       train_loader=dataloader,\n",
    "                       optimizer=optimizer,\n",
    "                       loss_fn=loss_fn,\n",
    "                       device=\"cpu\",\n",
    "                       note_vocab_size=notes_vectorizer.vocab_size,\n",
    "                       duration_vocab_size=durations_vectorizer.vocab_size,\n",
    "                       save_freq=1,\n",
    "                       checkpoint_dir=\"checkpoints\",\n",
    "                       remove_previous_models=True)\n",
    "\n",
    "trainer.train(10)\n"
   ],
   "id": "30d2bc7d0d308128",
   "outputs": [
    {
     "name": "stdout",
     "output_type": "stream",
     "text": [
      "Checkpoint loaded from  checkpoint_1.pt\n"
     ]
    },
    {
     "name": "stderr",
     "output_type": "stream",
     "text": [
      "Epoch 1: 100%|██████████| 108/108 [00:12<00:00,  8.43it/s, duration=0.592, note=2.85, total=3.44]\n",
      "Epoch 2: 100%|██████████| 108/108 [00:12<00:00,  8.36it/s, duration=0.646, note=2.62, total=3.27]\n",
      "Epoch 3: 100%|██████████| 108/108 [00:13<00:00,  8.14it/s, duration=0.518, note=2.53, total=3.05]\n",
      "Epoch 4: 100%|██████████| 108/108 [00:13<00:00,  7.84it/s, duration=0.558, note=2.46, total=3.02]\n",
      "Epoch 5: 100%|██████████| 108/108 [00:14<00:00,  7.43it/s, duration=0.506, note=2.41, total=2.92]\n",
      "Epoch 6: 100%|██████████| 108/108 [00:14<00:00,  7.41it/s, duration=0.503, note=2.39, total=2.89]\n",
      "Epoch 7: 100%|██████████| 108/108 [00:13<00:00,  7.90it/s, duration=0.559, note=2.43, total=2.99]\n",
      "Epoch 8: 100%|██████████| 108/108 [00:14<00:00,  7.66it/s, duration=0.517, note=2.36, total=2.88]\n",
      "Epoch 9: 100%|██████████| 108/108 [00:14<00:00,  7.23it/s, duration=0.52, note=2.29, total=2.81] \n"
     ]
    }
   ],
   "execution_count": 16
  },
  {
   "metadata": {
    "ExecuteTime": {
     "end_time": "2025-01-18T09:59:05.501007Z",
     "start_time": "2025-01-18T09:59:05.499133Z"
    }
   },
   "cell_type": "code",
   "source": [
    "from src.generator import MusicGenerator\n",
    "\n",
    "generator = MusicGenerator(model,notes_vectorizer.vocab,durations_vectorizer.vocab,\"data/results\")"
   ],
   "id": "465d5acbc44ad78d",
   "outputs": [],
   "execution_count": 27
  },
  {
   "metadata": {
    "ExecuteTime": {
     "end_time": "2025-01-18T09:59:07.560076Z",
     "start_time": "2025-01-18T09:59:07.457737Z"
    }
   },
   "cell_type": "code",
   "source": "info = generator.generate([\"START\"], [\"0.0\"], max_tokens=GENERATE_LEN, temperature=0.5)",
   "id": "2660b113e47e02ca",
   "outputs": [
    {
     "ename": "ValueError",
     "evalue": "Invalid literal for Fraction: '[UNK]'",
     "output_type": "error",
     "traceback": [
      "\u001B[0;31m---------------------------------------------------------------------------\u001B[0m",
      "\u001B[0;31mValueError\u001B[0m                                Traceback (most recent call last)",
      "Cell \u001B[0;32mIn[28], line 1\u001B[0m\n\u001B[0;32m----> 1\u001B[0m info \u001B[38;5;241m=\u001B[39m \u001B[43mgenerator\u001B[49m\u001B[38;5;241;43m.\u001B[39;49m\u001B[43mgenerate\u001B[49m\u001B[43m(\u001B[49m\u001B[43m[\u001B[49m\u001B[38;5;124;43m\"\u001B[39;49m\u001B[38;5;124;43mSTART\u001B[39;49m\u001B[38;5;124;43m\"\u001B[39;49m\u001B[43m]\u001B[49m\u001B[43m,\u001B[49m\u001B[43m \u001B[49m\u001B[43m[\u001B[49m\u001B[38;5;124;43m\"\u001B[39;49m\u001B[38;5;124;43m0.0\u001B[39;49m\u001B[38;5;124;43m\"\u001B[39;49m\u001B[43m]\u001B[49m\u001B[43m,\u001B[49m\u001B[43m \u001B[49m\u001B[43mmax_tokens\u001B[49m\u001B[38;5;241;43m=\u001B[39;49m\u001B[43mGENERATE_LEN\u001B[49m\u001B[43m,\u001B[49m\u001B[43m \u001B[49m\u001B[43mtemperature\u001B[49m\u001B[38;5;241;43m=\u001B[39;49m\u001B[38;5;241;43m0.5\u001B[39;49m\u001B[43m)\u001B[49m\n",
      "File \u001B[0;32m~/PycharmProjects/MusicGenerationTransformer/src/generator.py:81\u001B[0m, in \u001B[0;36mMusicGenerator.generate\u001B[0;34m(self, start_notes, start_durations, max_tokens, temperature)\u001B[0m\n\u001B[1;32m     71\u001B[0m repeat \u001B[38;5;241m=\u001B[39m \u001B[38;5;28;01mTrue\u001B[39;00m\n\u001B[1;32m     72\u001B[0m \u001B[38;5;28;01mwhile\u001B[39;00m repeat:\n\u001B[1;32m     73\u001B[0m     (\n\u001B[1;32m     74\u001B[0m         new_note,\n\u001B[1;32m     75\u001B[0m         sample_note_idx,\n\u001B[1;32m     76\u001B[0m         sample_note,\n\u001B[1;32m     77\u001B[0m         note_probs,\n\u001B[1;32m     78\u001B[0m         sample_duration_idx,\n\u001B[1;32m     79\u001B[0m         sample_duration,\n\u001B[1;32m     80\u001B[0m         duration_probs,\n\u001B[0;32m---> 81\u001B[0m     ) \u001B[38;5;241m=\u001B[39m \u001B[38;5;28;43mself\u001B[39;49m\u001B[38;5;241;43m.\u001B[39;49m\u001B[43mget_note\u001B[49m\u001B[43m(\u001B[49m\u001B[43mnotes\u001B[49m\u001B[43m,\u001B[49m\u001B[43m \u001B[49m\u001B[43mdurations\u001B[49m\u001B[43m,\u001B[49m\u001B[43m \u001B[49m\u001B[43mtemperature\u001B[49m\u001B[43m)\u001B[49m\n\u001B[1;32m     83\u001B[0m     \u001B[38;5;28;01mif\u001B[39;00m (\n\u001B[1;32m     84\u001B[0m         \u001B[38;5;28misinstance\u001B[39m(new_note, music21\u001B[38;5;241m.\u001B[39mchord\u001B[38;5;241m.\u001B[39mChord)\n\u001B[1;32m     85\u001B[0m         \u001B[38;5;129;01mor\u001B[39;00m \u001B[38;5;28misinstance\u001B[39m(new_note, music21\u001B[38;5;241m.\u001B[39mnote\u001B[38;5;241m.\u001B[39mNote)\n\u001B[1;32m     86\u001B[0m         \u001B[38;5;129;01mor\u001B[39;00m \u001B[38;5;28misinstance\u001B[39m(new_note, music21\u001B[38;5;241m.\u001B[39mnote\u001B[38;5;241m.\u001B[39mRest)\n\u001B[1;32m     87\u001B[0m     ) \u001B[38;5;129;01mand\u001B[39;00m sample_duration \u001B[38;5;241m==\u001B[39m \u001B[38;5;124m\"\u001B[39m\u001B[38;5;124m0.0\u001B[39m\u001B[38;5;124m\"\u001B[39m:\n\u001B[1;32m     88\u001B[0m         repeat \u001B[38;5;241m=\u001B[39m \u001B[38;5;28;01mTrue\u001B[39;00m\n",
      "File \u001B[0;32m~/PycharmProjects/MusicGenerationTransformer/src/generator.py:35\u001B[0m, in \u001B[0;36mMusicGenerator.get_note\u001B[0;34m(self, notes, durations, temperature)\u001B[0m\n\u001B[1;32m     32\u001B[0m     sample_duration_idx, duration_probs \u001B[38;5;241m=\u001B[39m \u001B[38;5;28mself\u001B[39m\u001B[38;5;241m.\u001B[39msample_from(durations[\u001B[38;5;241m0\u001B[39m][\u001B[38;5;241m-\u001B[39m\u001B[38;5;241m1\u001B[39m], temperature)\n\u001B[1;32m     33\u001B[0m     sample_duration \u001B[38;5;241m=\u001B[39m \u001B[38;5;28mself\u001B[39m\u001B[38;5;241m.\u001B[39mindex_to_duration[sample_duration_idx]\n\u001B[0;32m---> 35\u001B[0m new_note \u001B[38;5;241m=\u001B[39m \u001B[43mget_midi_note\u001B[49m\u001B[43m(\u001B[49m\u001B[43msample_note\u001B[49m\u001B[43m,\u001B[49m\u001B[43m \u001B[49m\u001B[43msample_duration\u001B[49m\u001B[43m)\u001B[49m\n\u001B[1;32m     37\u001B[0m \u001B[38;5;28;01mreturn\u001B[39;00m (\n\u001B[1;32m     38\u001B[0m     new_note,\n\u001B[1;32m     39\u001B[0m     sample_note_idx,\n\u001B[0;32m   (...)\u001B[0m\n\u001B[1;32m     44\u001B[0m     duration_probs,\n\u001B[1;32m     45\u001B[0m )\n",
      "File \u001B[0;32m~/PycharmProjects/MusicGenerationTransformer/src/utils.py:178\u001B[0m, in \u001B[0;36mget_midi_note\u001B[0;34m(sample_note, sample_duration)\u001B[0m\n\u001B[1;32m    175\u001B[0m \u001B[38;5;28;01melif\u001B[39;00m sample_note \u001B[38;5;241m!=\u001B[39m \u001B[38;5;124m\"\u001B[39m\u001B[38;5;124mSTART\u001B[39m\u001B[38;5;124m\"\u001B[39m:\n\u001B[1;32m    176\u001B[0m     new_note \u001B[38;5;241m=\u001B[39m music21\u001B[38;5;241m.\u001B[39mnote\u001B[38;5;241m.\u001B[39mNote(sample_note)\n\u001B[1;32m    177\u001B[0m     new_note\u001B[38;5;241m.\u001B[39mduration \u001B[38;5;241m=\u001B[39m music21\u001B[38;5;241m.\u001B[39mduration\u001B[38;5;241m.\u001B[39mDuration(\n\u001B[0;32m--> 178\u001B[0m         \u001B[38;5;28mfloat\u001B[39m(\u001B[43mFraction\u001B[49m\u001B[43m(\u001B[49m\u001B[43msample_duration\u001B[49m\u001B[43m)\u001B[49m)\n\u001B[1;32m    179\u001B[0m     )\n\u001B[1;32m    180\u001B[0m     new_note\u001B[38;5;241m.\u001B[39mstoredInstrument \u001B[38;5;241m=\u001B[39m music21\u001B[38;5;241m.\u001B[39minstrument\u001B[38;5;241m.\u001B[39mVioloncello()\n\u001B[1;32m    182\u001B[0m \u001B[38;5;28;01mreturn\u001B[39;00m new_note\n",
      "File \u001B[0;32m/usr/lib/python3.12/fractions.py:239\u001B[0m, in \u001B[0;36mFraction.__new__\u001B[0;34m(cls, numerator, denominator)\u001B[0m\n\u001B[1;32m    237\u001B[0m m \u001B[38;5;241m=\u001B[39m _RATIONAL_FORMAT\u001B[38;5;241m.\u001B[39mmatch(numerator)\n\u001B[1;32m    238\u001B[0m \u001B[38;5;28;01mif\u001B[39;00m m \u001B[38;5;129;01mis\u001B[39;00m \u001B[38;5;28;01mNone\u001B[39;00m:\n\u001B[0;32m--> 239\u001B[0m     \u001B[38;5;28;01mraise\u001B[39;00m \u001B[38;5;167;01mValueError\u001B[39;00m(\u001B[38;5;124m'\u001B[39m\u001B[38;5;124mInvalid literal for Fraction: \u001B[39m\u001B[38;5;132;01m%r\u001B[39;00m\u001B[38;5;124m'\u001B[39m \u001B[38;5;241m%\u001B[39m\n\u001B[1;32m    240\u001B[0m                      numerator)\n\u001B[1;32m    241\u001B[0m numerator \u001B[38;5;241m=\u001B[39m \u001B[38;5;28mint\u001B[39m(m\u001B[38;5;241m.\u001B[39mgroup(\u001B[38;5;124m'\u001B[39m\u001B[38;5;124mnum\u001B[39m\u001B[38;5;124m'\u001B[39m) \u001B[38;5;129;01mor\u001B[39;00m \u001B[38;5;124m'\u001B[39m\u001B[38;5;124m0\u001B[39m\u001B[38;5;124m'\u001B[39m)\n\u001B[1;32m    242\u001B[0m denom \u001B[38;5;241m=\u001B[39m m\u001B[38;5;241m.\u001B[39mgroup(\u001B[38;5;124m'\u001B[39m\u001B[38;5;124mdenom\u001B[39m\u001B[38;5;124m'\u001B[39m)\n",
      "\u001B[0;31mValueError\u001B[0m: Invalid literal for Fraction: '[UNK]'"
     ]
    }
   ],
   "execution_count": 28
  },
  {
   "metadata": {},
   "cell_type": "code",
   "outputs": [],
   "execution_count": null,
   "source": "",
   "id": "5a1f01bae3a62c4f"
  }
 ],
 "metadata": {
  "kernelspec": {
   "display_name": ".venv",
   "language": "python",
   "name": "python3"
  },
  "language_info": {
   "codemirror_mode": {
    "name": "ipython",
    "version": 3
   },
   "file_extension": ".py",
   "mimetype": "text/x-python",
   "name": "python",
   "nbconvert_exporter": "python",
   "pygments_lexer": "ipython3",
   "version": "3.12.3"
  }
 },
 "nbformat": 4,
 "nbformat_minor": 5
}
