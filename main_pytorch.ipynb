{
 "cells": [
  {
   "cell_type": "code",
   "id": "initial_id",
   "metadata": {
    "collapsed": true,
    "ExecuteTime": {
     "end_time": "2025-01-05T21:52:47.373231Z",
     "start_time": "2025-01-05T21:52:47.116040Z"
    }
   },
   "source": [
    "import os\n",
    "\n",
    "import music21\n",
    "import numpy as np\n",
    "from src.utils import parse_midi_files,load_parsed_files"
   ],
   "outputs": [],
   "execution_count": 1
  },
  {
   "cell_type": "code",
   "id": "e90aa875476cb421",
   "metadata": {
    "ExecuteTime": {
     "end_time": "2025-01-05T21:52:47.377500Z",
     "start_time": "2025-01-05T21:52:47.375706Z"
    }
   },
   "source": [
    "# Define the paths and constants\n",
    "DATA_PATH = \"data/raw/\"\n",
    "PARSED_DATA_PATH = \"data/parsed\"\n",
    "PARSED_SEQUENCES_DATA_PATH = \"data/parsed_sequences\"\n",
    "VOCAB_PATH = \"data/vocab\"\n",
    "PARSE_MIDI_FILES = False\n",
    "SEQ_LEN = 50\n",
    "BATCH_SIZE = 256\n",
    "EMBEDDING_DIM = 128\n",
    "KEY_DIM = 256\n",
    "N_HEADS = 4\n",
    "DROPOUT_RATE = 0.3\n",
    "FEED_FORWARD_DIM = 256"
   ],
   "outputs": [],
   "execution_count": 2
  },
  {
   "cell_type": "code",
   "id": "3cfea6ded40555d8",
   "metadata": {
    "ExecuteTime": {
     "end_time": "2025-01-05T21:52:47.487293Z",
     "start_time": "2025-01-05T21:52:47.484268Z"
    }
   },
   "source": [
    "# Get the list of midi files\n",
    "file_names = [os.path.join(DATA_PATH,f) for f in os.listdir(DATA_PATH) if f.endswith(\".mid\")]\n",
    "len(file_names)"
   ],
   "outputs": [
    {
     "data": {
      "text/plain": [
       "36"
      ]
     },
     "execution_count": 3,
     "metadata": {},
     "output_type": "execute_result"
    }
   ],
   "execution_count": 3
  },
  {
   "cell_type": "code",
   "id": "6ae454e8178aee25",
   "metadata": {
    "ExecuteTime": {
     "end_time": "2025-01-05T21:52:47.492256Z",
     "start_time": "2025-01-05T21:52:47.490883Z"
    }
   },
   "source": [
    "# define the parser\n",
    "parser = music21.converter"
   ],
   "outputs": [],
   "execution_count": 4
  },
  {
   "cell_type": "code",
   "id": "771244a9ad9d4210",
   "metadata": {
    "ExecuteTime": {
     "end_time": "2025-01-05T21:52:47.513366Z",
     "start_time": "2025-01-05T21:52:47.500183Z"
    }
   },
   "source": [
    "# Parse the midi files\n",
    "if PARSE_MIDI_FILES:\n",
    "    sequence_notes, sequence_durations = parse_midi_files(\n",
    "        file_names, parser, SEQ_LEN + 1, PARSED_SEQUENCES_DATA_PATH\n",
    "    )\n",
    "else:\n",
    "    sequence_notes, sequence_durations = load_parsed_files(PARSED_SEQUENCES_DATA_PATH)\n",
    "len(sequence_notes),len(sequence_durations)"
   ],
   "outputs": [
    {
     "data": {
      "text/plain": [
       "(27581, 27581)"
      ]
     },
     "execution_count": 5,
     "metadata": {},
     "output_type": "execute_result"
    }
   ],
   "execution_count": 5
  },
  {
   "metadata": {
    "ExecuteTime": {
     "end_time": "2025-01-05T21:52:47.517975Z",
     "start_time": "2025-01-05T21:52:47.515939Z"
    }
   },
   "cell_type": "code",
   "source": [
    "example_notes = sequence_notes[658]\n",
    "example_durations = sequence_durations[658]\n",
    "print(\"\\nNotes string\\n\", example_notes, \"...\")\n",
    "print(\"\\nDuration string\\n\", example_durations, \"...\")"
   ],
   "id": "ee689058fd59ed0c",
   "outputs": [
    {
     "name": "stdout",
     "output_type": "stream",
     "text": [
      "\n",
      "Notes string\n",
      " G3 B3 C4 G3 E3 D3 C3 E3 A3 C4 F#3 A3 C4 E4 D4 C3 B2 G3 A2 G2 D2 A2 G3 F#3 G3 G2 B2 D3 G3 B3 D4 F#4 G4 D4 B3 G3 G2 A3 A3 F#3 G3 A3 D3 E3 F#3 G3 A3 F#3 D3 C3 B2 ...\n",
      "\n",
      "Duration string\n",
      " 0.25 0.25 0.25 0.25 0.25 0.25 0.25 0.25 0.25 0.25 0.25 0.25 0.25 0.25 0.75 0.25 0.25 0.25 0.25 0.25 0.25 0.25 0.25 0.25 0.25 0.25 0.25 0.25 0.25 0.25 0.25 0.25 0.25 0.25 0.25 0.25 0.75 0.25 1.25 0.25 0.25 0.25 0.25 0.25 0.25 0.25 0.25 0.25 0.25 0.25 0.25 ...\n"
     ]
    }
   ],
   "execution_count": 6
  },
  {
   "metadata": {
    "ExecuteTime": {
     "end_time": "2025-01-05T21:52:48.434115Z",
     "start_time": "2025-01-05T21:52:47.534488Z"
    }
   },
   "cell_type": "code",
   "source": [
    "from src.vectorization import VectorizeLayer\n",
    "\n",
    "# Create the vectorizer layer for notes\n",
    "notes_vectorizer = VectorizeLayer(special_tokens=[\"[UNK]\",\"\"])\n",
    "notes_vectorizer.adapt(sequence_notes)\n",
    "notes_vectorizer.save_vocab(os.path.join(VOCAB_PATH,\"notes_vocab.json\"))\n",
    "\n",
    "# Create the vectorizer layer for durations\n",
    "durations_vectorizer = VectorizeLayer(special_tokens=[\"[UNK]\",\"\"])\n",
    "durations_vectorizer.adapt(sequence_durations)\n",
    "durations_vectorizer.save_vocab(os.path.join(VOCAB_PATH,\"durations_vocab.json\"))\n",
    "\n",
    "len(notes_vectorizer.vocab),len(durations_vectorizer.vocab)"
   ],
   "id": "f8c68fe5cc157501",
   "outputs": [
    {
     "name": "stdout",
     "output_type": "stream",
     "text": [
      "Vocab saved to data/vocab/notes_vocab.json\n",
      "Vocab saved to data/vocab/durations_vocab.json\n"
     ]
    },
    {
     "data": {
      "text/plain": [
       "(59, 24)"
      ]
     },
     "execution_count": 7,
     "metadata": {},
     "output_type": "execute_result"
    }
   ],
   "execution_count": 7
  },
  {
   "metadata": {
    "ExecuteTime": {
     "end_time": "2025-01-05T21:52:48.812214Z",
     "start_time": "2025-01-05T21:52:48.457626Z"
    }
   },
   "cell_type": "code",
   "source": [
    "# tokenize the notes and durations\n",
    "notes_tokenized = notes_vectorizer(sequence_notes)\n",
    "durations_tokenised = durations_vectorizer(sequence_durations)\n",
    "notes_tokenized.shape,durations_tokenised.shape"
   ],
   "id": "6f6e0c88bad64a6a",
   "outputs": [
    {
     "data": {
      "text/plain": [
       "(torch.Size([27581, 51]), torch.Size([27581, 51]))"
      ]
     },
     "execution_count": 8,
     "metadata": {},
     "output_type": "execute_result"
    }
   ],
   "execution_count": 8
  },
  {
   "metadata": {
    "ExecuteTime": {
     "end_time": "2025-01-05T21:52:48.828228Z",
     "start_time": "2025-01-05T21:52:48.824965Z"
    }
   },
   "cell_type": "code",
   "source": [
    "from src.dataset import MusicDataset\n",
    "from torch.utils.data import DataLoader\n",
    "\n",
    "# Create a dataset and dataloader\n",
    "dataset = MusicDataset(notes_tokenized,durations_tokenised,SEQ_LEN)\n",
    "dataloader = DataLoader(dataset,batch_size=BATCH_SIZE,shuffle=True)\n",
    "len(dataloader)"
   ],
   "id": "e739a4cabc35ae77",
   "outputs": [
    {
     "data": {
      "text/plain": [
       "108"
      ]
     },
     "execution_count": 9,
     "metadata": {},
     "output_type": "execute_result"
    }
   ],
   "execution_count": 9
  },
  {
   "metadata": {
    "ExecuteTime": {
     "end_time": "2025-01-05T21:52:48.848814Z",
     "start_time": "2025-01-05T21:52:48.836737Z"
    }
   },
   "cell_type": "code",
   "source": [
    "# Get a batch of data\n",
    "x_note,x_duration,y_note,y_duration = next(iter(dataloader))\n",
    "x_note.shape,x_duration.shape,y_note.shape,y_duration.shape"
   ],
   "id": "fe8b5bb52cf3b395",
   "outputs": [
    {
     "data": {
      "text/plain": [
       "(torch.Size([256, 50]),\n",
       " torch.Size([256, 50]),\n",
       " torch.Size([256, 50]),\n",
       " torch.Size([256, 50]))"
      ]
     },
     "execution_count": 10,
     "metadata": {},
     "output_type": "execute_result"
    }
   ],
   "execution_count": 10
  },
  {
   "metadata": {
    "ExecuteTime": {
     "end_time": "2025-01-05T21:52:48.913029Z",
     "start_time": "2025-01-05T21:52:48.902651Z"
    }
   },
   "cell_type": "code",
   "source": [
    "from src.embedding import TokenAndPositionEmbedding\n",
    "\n",
    "# Define the embedding layers\n",
    "embed_notes_layer = TokenAndPositionEmbedding(notes_vectorizer.vocab_size,embed_dim=128)\n",
    "embed_durations_layer = TokenAndPositionEmbedding(durations_vectorizer.vocab_size,embed_dim=128)\n"
   ],
   "id": "9c43270e817d20f5",
   "outputs": [],
   "execution_count": 11
  },
  {
   "metadata": {
    "ExecuteTime": {
     "end_time": "2025-01-05T21:52:49.106521Z",
     "start_time": "2025-01-05T21:52:48.925215Z"
    }
   },
   "cell_type": "code",
   "source": [
    "import matplotlib.pyplot as plt\n",
    "\n",
    "# visualize the embedding layers\n",
    "embedding_example = embed_notes_layer(x_note)\n",
    "\n",
    "plt.imshow(\n",
    "    np.transpose(embedding_example.detach().numpy()[0]),\n",
    "    cmap=\"coolwarm\",\n",
    "    interpolation=\"nearest\",\n",
    "    origin=\"lower\",\n",
    ")\n",
    "plt.show()"
   ],
   "id": "a30422cb2791f572",
   "outputs": [
    {
     "data": {
      "text/plain": [
       "<Figure size 640x480 with 1 Axes>"
      ],
      "image/png": "[encoded data removed]"
     },
     "metadata": {
      "image/png": {
       "width": 200,
       "height": 413
      }
     },
     "output_type": "display_data"
    }
   ],
   "execution_count": 12
  },
  {
   "metadata": {
    "ExecuteTime": {
     "end_time": "2025-01-05T21:52:49.121473Z",
     "start_time": "2025-01-05T21:52:49.114066Z"
    }
   },
   "cell_type": "code",
   "source": [
    "from torch import nn\n",
    "import torch\n",
    "\n",
    "from src.transformer_block import TransformerBlock\n",
    "\n",
    "class MusicModel(nn.Module):\n",
    "    def __init__(self, notes_vocab_size, durations_vocab_size):\n",
    "        super(MusicModel, self).__init__()\n",
    "        self.notes_embedding = TokenAndPositionEmbedding(len(notes_vectorizer.vocab), embed_dim=EMBEDDING_DIM//2)\n",
    "        self.durations_embedding = TokenAndPositionEmbedding(len(durations_vectorizer.vocab), embed_dim=EMBEDDING_DIM//2)\n",
    "        self.block = TransformerBlock(N_HEADS, KEY_DIM, EMBEDDING_DIM, FEED_FORWARD_DIM, DROPOUT_RATE)\n",
    "        self.out_note = nn.Linear(EMBEDDING_DIM, notes_vocab_size)\n",
    "        self.out_duration = nn.Linear(EMBEDDING_DIM, durations_vocab_size)\n",
    "\n",
    "        # Ajout d'une couche de normalisation\n",
    "        self.layer_norm = nn.LayerNorm(EMBEDDING_DIM)\n",
    "\n",
    "    def _check_tensor(self, tensor, name):\n",
    "        if torch.isnan(tensor).any():\n",
    "            print(f\"NaN détecté dans {name}\")\n",
    "            print(f\"Stats {name}:\", {\n",
    "                \"min\": torch.min(tensor).item(),\n",
    "                \"max\": torch.max(tensor).item(),\n",
    "                \"mean\": torch.mean(tensor).item(),\n",
    "                \"std\": torch.std(tensor).item()\n",
    "            })\n",
    "            return False\n",
    "        return True\n",
    "\n",
    "    def forward(self, note, duration):\n",
    "        # Vérification des entrées\n",
    "        self._check_tensor(note, \"note input\")\n",
    "        self._check_tensor(duration, \"duration input\")\n",
    "\n",
    "        # Embeddings\n",
    "        note_embedding = self.notes_embedding(note)\n",
    "        if not self._check_tensor(note_embedding, \"note_embedding\"):\n",
    "            raise ValueError(\"NaN in note_embedding\")\n",
    "        print(\"Note embedding shape:\", note_embedding.shape)\n",
    "\n",
    "        duration_embedding = self.durations_embedding(duration)\n",
    "        if not self._check_tensor(duration_embedding, \"duration_embedding\"):\n",
    "            raise ValueError(\"NaN in duration_embedding\")\n",
    "        print(\"Duration embedding shape:\", duration_embedding.shape)\n",
    "\n",
    "        # Concaténation\n",
    "        x = torch.cat([note_embedding, duration_embedding], dim=-1)\n",
    "        print(\"After concatenation shape:\", x.shape)\n",
    "\n",
    "        # Normalisation après concaténation\n",
    "        x = self.layer_norm(x)\n",
    "        if not self._check_tensor(x, \"after normalization\"):\n",
    "            raise ValueError(\"NaN after normalization\")\n",
    "\n",
    "        # Transformer block\n",
    "        x, attention_score = self.block(x)\n",
    "        if not self._check_tensor(x, \"after transformer block\"):\n",
    "            raise ValueError(\"NaN after transformer block\")\n",
    "        if not self._check_tensor(attention_score, \"attention scores\"):\n",
    "            raise ValueError(\"NaN in attention scores\")\n",
    "\n",
    "        # Sorties\n",
    "        out_note = self.out_note(x)\n",
    "        if not self._check_tensor(out_note, \"before note softmax\"):\n",
    "            raise ValueError(\"NaN before note softmax\")\n",
    "        out_note = torch.softmax(out_note, dim=-1)\n",
    "\n",
    "        out_duration = self.out_duration(x)\n",
    "        if not self._check_tensor(out_duration, \"before duration softmax\"):\n",
    "            raise ValueError(\"NaN before duration softmax\")\n",
    "        out_duration = torch.softmax(out_duration, dim=-1)\n",
    "\n",
    "        return out_note, out_duration, attention_score"
   ],
   "id": "1e033aab7c6334c4",
   "outputs": [],
   "execution_count": 13
  },
  {
   "metadata": {
    "ExecuteTime": {
     "end_time": "2025-01-05T21:52:49.129904Z",
     "start_time": "2025-01-05T21:52:49.128719Z"
    }
   },
   "cell_type": "code",
   "source": "",
   "id": "cd470cb466282b8b",
   "outputs": [],
   "execution_count": null
  },
  {
   "metadata": {
    "ExecuteTime": {
     "end_time": "2025-01-05T21:52:49.405385Z",
     "start_time": "2025-01-05T21:52:49.139576Z"
    }
   },
   "cell_type": "code",
   "source": [
    "# Create the model\n",
    "x_note,x_duration,y_note,y_duration = next(iter(dataloader))\n",
    "\n",
    "model = MusicModel(notes_vectorizer.vocab_size,durations_vectorizer.vocab_size)\n",
    "out_note,out_duration,att_score = model(x_note,x_duration)\n",
    "out_note.shape,out_duration.shape,att_score.shape"
   ],
   "id": "5ecca04b75b27683",
   "outputs": [
    {
     "name": "stdout",
     "output_type": "stream",
     "text": [
      "Note embedding shape: torch.Size([256, 50, 64])\n",
      "Duration embedding shape: torch.Size([256, 50, 64])\n",
      "After concatenation shape: torch.Size([256, 50, 128])\n",
      "NaN détecté dans after transformer block\n",
      "Stats after transformer block: {'min': nan, 'max': nan, 'mean': nan, 'std': nan}\n"
     ]
    },
    {
     "ename": "ValueError",
     "evalue": "NaN after transformer block",
     "output_type": "error",
     "traceback": [
      "\u001B[0;31m---------------------------------------------------------------------------\u001B[0m",
      "\u001B[0;31mValueError\u001B[0m                                Traceback (most recent call last)",
      "Cell \u001B[0;32mIn[14], line 5\u001B[0m\n\u001B[1;32m      2\u001B[0m x_note,x_duration,y_note,y_duration \u001B[38;5;241m=\u001B[39m \u001B[38;5;28mnext\u001B[39m(\u001B[38;5;28miter\u001B[39m(dataloader))\n\u001B[1;32m      4\u001B[0m model \u001B[38;5;241m=\u001B[39m MusicModel(notes_vectorizer\u001B[38;5;241m.\u001B[39mvocab_size,durations_vectorizer\u001B[38;5;241m.\u001B[39mvocab_size)\n\u001B[0;32m----> 5\u001B[0m out_note,out_duration,att_score \u001B[38;5;241m=\u001B[39m \u001B[43mmodel\u001B[49m\u001B[43m(\u001B[49m\u001B[43mx_note\u001B[49m\u001B[43m,\u001B[49m\u001B[43mx_duration\u001B[49m\u001B[43m)\u001B[49m\n\u001B[1;32m      6\u001B[0m out_note\u001B[38;5;241m.\u001B[39mshape,out_duration\u001B[38;5;241m.\u001B[39mshape,att_score\u001B[38;5;241m.\u001B[39mshape\n",
      "File \u001B[0;32m~/PycharmProjects/pythonProjec/TestMusic/lib/python3.11/site-packages/torch/nn/modules/module.py:1736\u001B[0m, in \u001B[0;36mModule._wrapped_call_impl\u001B[0;34m(self, *args, **kwargs)\u001B[0m\n\u001B[1;32m   1734\u001B[0m     \u001B[38;5;28;01mreturn\u001B[39;00m \u001B[38;5;28mself\u001B[39m\u001B[38;5;241m.\u001B[39m_compiled_call_impl(\u001B[38;5;241m*\u001B[39margs, \u001B[38;5;241m*\u001B[39m\u001B[38;5;241m*\u001B[39mkwargs)  \u001B[38;5;66;03m# type: ignore[misc]\u001B[39;00m\n\u001B[1;32m   1735\u001B[0m \u001B[38;5;28;01melse\u001B[39;00m:\n\u001B[0;32m-> 1736\u001B[0m     \u001B[38;5;28;01mreturn\u001B[39;00m \u001B[38;5;28;43mself\u001B[39;49m\u001B[38;5;241;43m.\u001B[39;49m\u001B[43m_call_impl\u001B[49m\u001B[43m(\u001B[49m\u001B[38;5;241;43m*\u001B[39;49m\u001B[43margs\u001B[49m\u001B[43m,\u001B[49m\u001B[43m \u001B[49m\u001B[38;5;241;43m*\u001B[39;49m\u001B[38;5;241;43m*\u001B[39;49m\u001B[43mkwargs\u001B[49m\u001B[43m)\u001B[49m\n",
      "File \u001B[0;32m~/PycharmProjects/pythonProjec/TestMusic/lib/python3.11/site-packages/torch/nn/modules/module.py:1747\u001B[0m, in \u001B[0;36mModule._call_impl\u001B[0;34m(self, *args, **kwargs)\u001B[0m\n\u001B[1;32m   1742\u001B[0m \u001B[38;5;66;03m# If we don't have any hooks, we want to skip the rest of the logic in\u001B[39;00m\n\u001B[1;32m   1743\u001B[0m \u001B[38;5;66;03m# this function, and just call forward.\u001B[39;00m\n\u001B[1;32m   1744\u001B[0m \u001B[38;5;28;01mif\u001B[39;00m \u001B[38;5;129;01mnot\u001B[39;00m (\u001B[38;5;28mself\u001B[39m\u001B[38;5;241m.\u001B[39m_backward_hooks \u001B[38;5;129;01mor\u001B[39;00m \u001B[38;5;28mself\u001B[39m\u001B[38;5;241m.\u001B[39m_backward_pre_hooks \u001B[38;5;129;01mor\u001B[39;00m \u001B[38;5;28mself\u001B[39m\u001B[38;5;241m.\u001B[39m_forward_hooks \u001B[38;5;129;01mor\u001B[39;00m \u001B[38;5;28mself\u001B[39m\u001B[38;5;241m.\u001B[39m_forward_pre_hooks\n\u001B[1;32m   1745\u001B[0m         \u001B[38;5;129;01mor\u001B[39;00m _global_backward_pre_hooks \u001B[38;5;129;01mor\u001B[39;00m _global_backward_hooks\n\u001B[1;32m   1746\u001B[0m         \u001B[38;5;129;01mor\u001B[39;00m _global_forward_hooks \u001B[38;5;129;01mor\u001B[39;00m _global_forward_pre_hooks):\n\u001B[0;32m-> 1747\u001B[0m     \u001B[38;5;28;01mreturn\u001B[39;00m \u001B[43mforward_call\u001B[49m\u001B[43m(\u001B[49m\u001B[38;5;241;43m*\u001B[39;49m\u001B[43margs\u001B[49m\u001B[43m,\u001B[49m\u001B[43m \u001B[49m\u001B[38;5;241;43m*\u001B[39;49m\u001B[38;5;241;43m*\u001B[39;49m\u001B[43mkwargs\u001B[49m\u001B[43m)\u001B[49m\n\u001B[1;32m   1749\u001B[0m result \u001B[38;5;241m=\u001B[39m \u001B[38;5;28;01mNone\u001B[39;00m\n\u001B[1;32m   1750\u001B[0m called_always_called_hooks \u001B[38;5;241m=\u001B[39m \u001B[38;5;28mset\u001B[39m()\n",
      "Cell \u001B[0;32mIn[13], line 58\u001B[0m, in \u001B[0;36mMusicModel.forward\u001B[0;34m(self, note, duration)\u001B[0m\n\u001B[1;32m     56\u001B[0m x, attention_score \u001B[38;5;241m=\u001B[39m \u001B[38;5;28mself\u001B[39m\u001B[38;5;241m.\u001B[39mblock(x)\n\u001B[1;32m     57\u001B[0m \u001B[38;5;28;01mif\u001B[39;00m \u001B[38;5;129;01mnot\u001B[39;00m \u001B[38;5;28mself\u001B[39m\u001B[38;5;241m.\u001B[39m_check_tensor(x, \u001B[38;5;124m\"\u001B[39m\u001B[38;5;124mafter transformer block\u001B[39m\u001B[38;5;124m\"\u001B[39m):\n\u001B[0;32m---> 58\u001B[0m     \u001B[38;5;28;01mraise\u001B[39;00m \u001B[38;5;167;01mValueError\u001B[39;00m(\u001B[38;5;124m\"\u001B[39m\u001B[38;5;124mNaN after transformer block\u001B[39m\u001B[38;5;124m\"\u001B[39m)\n\u001B[1;32m     59\u001B[0m \u001B[38;5;28;01mif\u001B[39;00m \u001B[38;5;129;01mnot\u001B[39;00m \u001B[38;5;28mself\u001B[39m\u001B[38;5;241m.\u001B[39m_check_tensor(attention_score, \u001B[38;5;124m\"\u001B[39m\u001B[38;5;124mattention scores\u001B[39m\u001B[38;5;124m\"\u001B[39m):\n\u001B[1;32m     60\u001B[0m     \u001B[38;5;28;01mraise\u001B[39;00m \u001B[38;5;167;01mValueError\u001B[39;00m(\u001B[38;5;124m\"\u001B[39m\u001B[38;5;124mNaN in attention scores\u001B[39m\u001B[38;5;124m\"\u001B[39m)\n",
      "\u001B[0;31mValueError\u001B[0m: NaN after transformer block"
     ]
    }
   ],
   "execution_count": 14
  },
  {
   "metadata": {
    "ExecuteTime": {
     "end_time": "2025-01-05T21:52:49.444881Z",
     "start_time": "2025-01-05T21:25:19.168005Z"
    }
   },
   "cell_type": "code",
   "source": [
    "loss_fn = nn.CrossEntropyLoss()\n",
    "optimizer = torch.optim.Adam(model.parameters(),lr=1e-4)"
   ],
   "id": "902acb64080e9d8a",
   "outputs": [],
   "execution_count": 16
  },
  {
   "metadata": {
    "ExecuteTime": {
     "end_time": "2025-01-05T21:52:49.458178Z",
     "start_time": "2025-01-05T21:25:19.695694Z"
    }
   },
   "cell_type": "code",
   "source": "",
   "id": "6b808a5aa4e21b0f",
   "outputs": [],
   "execution_count": null
  },
  {
   "metadata": {
    "ExecuteTime": {
     "end_time": "2025-01-05T21:52:49.476247Z",
     "start_time": "2025-01-05T21:25:19.705557Z"
    }
   },
   "cell_type": "code",
   "source": [
    "\n",
    "for epoch in range(1):\n",
    "    for x_note, x_duration, y_note, y_duration in dataloader: # [256, 50],[256, 50],[256, 50],[256, 50]\n",
    "        optimizer.zero_grad()\n",
    "\n",
    "        # Prédiction\n",
    "        out_note, out_duration, att_score = model(x_note, x_duration)# [256, 50, 59],[256, 50, 24],[256, 50, 50]\n",
    "\n",
    "        out_note = out_note.view(-1, notes_vectorizer.vocab_size)        # [256*50, 59]\n",
    "        out_duration = out_duration.view(-1, durations_vectorizer.vocab_size)  # [256*50, 24]\n",
    "        y_note = y_note.view(-1)                             # [256*50]\n",
    "        y_duration = y_duration.view(-1)                     # [256*50]\n",
    "\n",
    "        loss_note = loss_fn(out_note, y_note)\n",
    "        loss_duration = loss_fn(out_duration, y_duration)\n",
    "        total_loss_batch = loss_note + loss_duration\n",
    "\n",
    "        total_loss_batch.backward()\n",
    "        optimizer.step()\n",
    "\n",
    "        print(loss_note.item(),loss_duration.item())\n",
    "        #print(total_loss_batch.item())\n",
    "        break\n"
   ],
   "id": "30d2bc7d0d308128",
   "outputs": [
    {
     "name": "stdout",
     "output_type": "stream",
     "text": [
      "nan nan\n"
     ]
    }
   ],
   "execution_count": 17
  },
  {
   "metadata": {
    "ExecuteTime": {
     "end_time": "2025-01-05T21:52:49.476791Z",
     "start_time": "2025-01-05T21:25:19.890040Z"
    }
   },
   "cell_type": "code",
   "source": "out_note",
   "id": "a5023468dec55915",
   "outputs": [
    {
     "data": {
      "text/plain": [
       "tensor([[-0.2013,  0.0131, -1.0662,  ...,  0.6213,  0.2947, -0.0314],\n",
       "        [-0.1999,  0.2385, -0.8594,  ...,  0.5496,  0.1244, -0.8474],\n",
       "        [-0.7025,  0.4220, -0.0094,  ...,  1.3045,  0.6865,  0.1591],\n",
       "        ...,\n",
       "        [-0.2118, -0.0755, -0.8148,  ...,  1.0052, -0.3608, -0.1908],\n",
       "        [ 0.1442, -0.1133,  0.2075,  ...,  0.3368,  0.3317, -0.2434],\n",
       "        [    nan,     nan,     nan,  ...,     nan,     nan,     nan]],\n",
       "       grad_fn=<ViewBackward0>)"
      ]
     },
     "execution_count": 18,
     "metadata": {},
     "output_type": "execute_result"
    }
   ],
   "execution_count": 18
  },
  {
   "metadata": {
    "ExecuteTime": {
     "end_time": "2025-01-05T21:52:49.489131Z",
     "start_time": "2025-01-05T21:26:41.454399Z"
    }
   },
   "cell_type": "code",
   "source": "torch.isnan(out_note).any()\n",
   "id": "e1f56ab0444f8ac4",
   "outputs": [
    {
     "data": {
      "text/plain": [
       "tensor(True)"
      ]
     },
     "execution_count": 19,
     "metadata": {},
     "output_type": "execute_result"
    }
   ],
   "execution_count": 19
  },
  {
   "metadata": {
    "ExecuteTime": {
     "end_time": "2025-01-05T21:52:49.489899Z",
     "start_time": "2025-01-05T21:27:48.059708Z"
    }
   },
   "cell_type": "code",
   "source": "torch.nonzero(torch.isnan(out_note), as_tuple=True)",
   "id": "2f68baea3108694f",
   "outputs": [
    {
     "data": {
      "text/plain": [
       "(tensor([   49,    49,    49,  ..., 12799, 12799, 12799]),\n",
       " tensor([ 0,  1,  2,  ..., 56, 57, 58]))"
      ]
     },
     "execution_count": 24,
     "metadata": {},
     "output_type": "execute_result"
    }
   ],
   "execution_count": 24
  }
 ],
 "metadata": {
  "kernelspec": {
   "display_name": ".venv",
   "language": "python",
   "name": "python3"
  },
  "language_info": {
   "codemirror_mode": {
    "name": "ipython",
    "version": 3
   },
   "file_extension": ".py",
   "mimetype": "text/x-python",
   "name": "python",
   "nbconvert_exporter": "python",
   "pygments_lexer": "ipython3",
   "version": "3.12.3"
  }
 },
 "nbformat": 4,
 "nbformat_minor": 5
}
