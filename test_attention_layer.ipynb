{
 "cells": [
  {
   "cell_type": "code",
   "id": "initial_id",
   "metadata": {
    "collapsed": true,
    "ExecuteTime": {
     "end_time": "2025-01-05T17:31:19.733796Z",
     "start_time": "2025-01-05T17:31:19.704757Z"
    }
   },
   "source": [
    "from torch import nn\n",
    "import torch\n",
    "\n",
    "EMBEDDING_DIM = 128\n",
    "KEY_DIM = 256\n",
    "N_HEADS = 4\n",
    "BATCH_SIZE = 256\n",
    "SEQ_LEN = 50\n",
    "\n",
    "layer = nn.MultiheadAttention(embed_dim=EMBEDDING_DIM,num_heads=N_HEADS,dropout=0.1,batch_first=True)\n",
    "x = torch.rand((BATCH_SIZE,50,EMBEDDING_DIM))\n",
    "x.shape"
   ],
   "outputs": [
    {
     "data": {
      "text/plain": [
       "torch.Size([256, 50, 128])"
      ]
     },
     "execution_count": 4,
     "metadata": {},
     "output_type": "execute_result"
    }
   ],
   "execution_count": 4
  },
  {
   "metadata": {
    "ExecuteTime": {
     "end_time": "2025-01-05T17:31:21.932315Z",
     "start_time": "2025-01-05T17:31:21.930015Z"
    }
   },
   "cell_type": "code",
   "source": "mask = torch.ones((50,50))\n",
   "id": "da63537dd0c4f34a",
   "outputs": [],
   "execution_count": 5
  },
  {
   "metadata": {
    "ExecuteTime": {
     "end_time": "2025-01-05T17:32:37.261607Z",
     "start_time": "2025-01-05T17:32:37.210544Z"
    }
   },
   "cell_type": "code",
   "source": [
    "output,score = layer(x,x,x,attn_mask=mask)\n",
    "output.shape,score.shape\n"
   ],
   "id": "2a3bfd4c4e123b43",
   "outputs": [
    {
     "data": {
      "text/plain": [
       "(torch.Size([256, 50, 128]), torch.Size([256, 50, 50]))"
      ]
     },
     "execution_count": 10,
     "metadata": {},
     "output_type": "execute_result"
    }
   ],
   "execution_count": 10
  }
 ],
 "metadata": {
  "kernelspec": {
   "display_name": "Python 3",
   "language": "python",
   "name": "python3"
  },
  "language_info": {
   "codemirror_mode": {
    "name": "ipython",
    "version": 2
   },
   "file_extension": ".py",
   "mimetype": "text/x-python",
   "name": "python",
   "nbconvert_exporter": "python",
   "pygments_lexer": "ipython2",
   "version": "2.7.6"
  }
 },
 "nbformat": 4,
 "nbformat_minor": 5
}
