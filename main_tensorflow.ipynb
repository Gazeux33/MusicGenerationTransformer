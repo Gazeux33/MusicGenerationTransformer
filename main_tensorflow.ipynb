{
 "cells": [
  {
   "cell_type": "code",
   "id": "initial_id",
   "metadata": {
    "collapsed": true,
    "ExecuteTime": {
     "end_time": "2025-01-05T20:03:34.161450Z",
     "start_time": "2025-01-05T20:03:34.154944Z"
    }
   },
   "source": [
    "import tensorflow as tf\n",
    "from tensorflow.keras import layers, models, losses, callbacks\n",
    "import numpy as np\n",
    "import music21\n",
    "import glob\n",
    "\n",
    "from src.utils import (\n",
    "    parse_midi_files,\n",
    "    load_parsed_files,\n",
    "    get_midi_note,\n",
    "    SinePositionEncoding,\n",
    ")"
   ],
   "outputs": [],
   "execution_count": 37
  },
  {
   "cell_type": "code",
   "id": "da255f105547594a",
   "metadata": {
    "ExecuteTime": {
     "end_time": "2025-01-05T20:03:34.212938Z",
     "start_time": "2025-01-05T20:03:34.206859Z"
    }
   },
   "source": [
    "PARSE_MIDI_FILES = True\n",
    "PARSED_DATA_PATH = \"data/parsed_sequences\"\n",
    "DATASET_REPETITIONS = 1\n",
    "\n",
    "SEQ_LEN = 50\n",
    "EMBEDDING_DIM = 256\n",
    "KEY_DIM = 256\n",
    "N_HEADS = 5\n",
    "DROPOUT_RATE = 0.3\n",
    "FEED_FORWARD_DIM = 256\n",
    "LOAD_MODEL = False\n",
    "\n",
    "# optimization\n",
    "EPOCHS = 5000\n",
    "BATCH_SIZE = 256\n",
    "\n",
    "GENERATE_LEN = 50"
   ],
   "outputs": [],
   "execution_count": 38
  },
  {
   "cell_type": "code",
   "id": "136243526dacad5c",
   "metadata": {
    "ExecuteTime": {
     "end_time": "2025-01-05T20:03:34.219709Z",
     "start_time": "2025-01-05T20:03:34.216118Z"
    }
   },
   "source": [
    "file_list = glob.glob(\"data/raw/*.mid\")\n",
    "print(f\"Found {len(file_list)} midi files\")"
   ],
   "outputs": [
    {
     "name": "stdout",
     "output_type": "stream",
     "text": [
      "Found 36 midi files\n"
     ]
    }
   ],
   "execution_count": 39
  },
  {
   "cell_type": "code",
   "id": "543053ca685812f",
   "metadata": {
    "ExecuteTime": {
     "end_time": "2025-01-05T20:03:35.070048Z",
     "start_time": "2025-01-05T20:03:34.226603Z"
    }
   },
   "source": [
    "parser = music21.converter\n",
    "example_score = (\n",
    "    music21.converter.parse(file_list[1]).splitAtQuarterLength(12)[0].chordify()\n",
    ")"
   ],
   "outputs": [],
   "execution_count": 40
  },
  {
   "cell_type": "code",
   "id": "be1df08488b6dbcc",
   "metadata": {
    "ExecuteTime": {
     "end_time": "2025-01-05T20:03:35.098268Z",
     "start_time": "2025-01-05T20:03:35.095158Z"
    }
   },
   "source": [
    "example_score.show(\"text\")"
   ],
   "outputs": [
    {
     "name": "stdout",
     "output_type": "stream",
     "text": [
      "{0.0} <music21.metadata.Metadata object at 0x143f22090>\n",
      "{0.0} <music21.stream.Measure 1 offset=0.0>\n",
      "    {0.0} <music21.instrument.Violoncello 'Solo Cello: Solo Cello'>\n",
      "    {0.0} <music21.instrument.Violoncello 'Violoncello'>\n",
      "    {0.0} <music21.clef.BassClef>\n",
      "    {0.0} <music21.tempo.MetronomeMark adagio Quarter=55>\n",
      "    {0.0} <music21.key.Key of E- major>\n",
      "    {0.0} <music21.meter.TimeSignature 4/4>\n",
      "    {0.0} <music21.chord.Chord C2 C3>\n",
      "    {1.0} <music21.chord.Chord C3>\n",
      "    {1.25} <music21.chord.Chord G2>\n",
      "    {1.5} <music21.chord.Chord A2>\n",
      "    {1.75} <music21.chord.Chord B2>\n",
      "    {2.0} <music21.chord.Chord C3>\n",
      "    {2.25} <music21.chord.Chord D3>\n",
      "    {2.5} <music21.chord.Chord E-3>\n",
      "    {2.75} <music21.chord.Chord F3>\n",
      "    {3.0} <music21.chord.Chord E-3>\n",
      "    {3.25} <music21.chord.Chord D3>\n",
      "    {3.5} <music21.chord.Chord E-3>\n",
      "    {3.75} <music21.chord.Chord C3>\n",
      "{4.0} <music21.stream.Measure 2 offset=4.0>\n",
      "    {0.0} <music21.chord.Chord C2 B2 F3 G#3>\n",
      "    {1.5} <music21.chord.Chord G#3>\n",
      "    {2.0} <music21.chord.Chord G3>\n",
      "    {2.5} <music21.chord.Chord G#3>\n",
      "    {2.75} <music21.chord.Chord F3>\n",
      "    {3.0} <music21.chord.Chord E-3>\n",
      "    {3.5} <music21.chord.Chord F3>\n",
      "    {3.75} <music21.chord.Chord D3>\n",
      "{8.0} <music21.stream.Measure 3 offset=8.0>\n",
      "    {0.0} <music21.chord.Chord C3 E-3>\n",
      "    {1.0} <music21.chord.Chord C2 E-3>\n",
      "    {2.0} <music21.chord.Chord C3>\n",
      "    {3.25} <music21.chord.Chord C3>\n",
      "    {3.5} <music21.chord.Chord D3>\n",
      "    {3.75} <music21.chord.Chord E-3>\n"
     ]
    }
   ],
   "execution_count": 41
  },
  {
   "cell_type": "code",
   "id": "ecc18eb70700953b",
   "metadata": {
    "ExecuteTime": {
     "end_time": "2025-01-05T20:03:43.891085Z",
     "start_time": "2025-01-05T20:03:35.136654Z"
    }
   },
   "source": [
    "if PARSE_MIDI_FILES:\n",
    "    notes, durations = parse_midi_files(\n",
    "        file_list, parser, SEQ_LEN + 1, PARSED_DATA_PATH\n",
    "    )\n",
    "else:\n",
    "    notes, durations = load_parsed_files(PARSED_DATA_PATH)\n",
    "len(notes),len(durations)"
   ],
   "outputs": [
    {
     "name": "stdout",
     "output_type": "stream",
     "text": [
      "1 Parsing data/raw/cs1-2all.mid\n",
      "921 notes parsed\n",
      "2 Parsing data/raw/cs5-1pre.mid\n",
      "2230 notes parsed\n",
      "3 Parsing data/raw/cs4-1pre.mid\n",
      "3047 notes parsed\n",
      "4 Parsing data/raw/cs3-5bou.mid\n",
      "3928 notes parsed\n",
      "5 Parsing data/raw/cs1-4sar.mid\n",
      "4191 notes parsed\n",
      "6 Parsing data/raw/cs2-5men.mid\n",
      "4718 notes parsed\n",
      "7 Parsing data/raw/cs3-3cou.mid\n",
      "5707 notes parsed\n",
      "8 Parsing data/raw/cs2-3cou.mid\n",
      "6448 notes parsed\n",
      "9 Parsing data/raw/cs1-6gig.mid\n",
      "6874 notes parsed\n",
      "10 Parsing data/raw/cs6-4sar.mid\n",
      "7209 notes parsed\n",
      "11 Parsing data/raw/cs4-5bou.mid\n",
      "8533 notes parsed\n",
      "12 Parsing data/raw/cs4-3cou.mid\n",
      "9455 notes parsed\n",
      "13 Parsing data/raw/cs5-3cou.mid\n",
      "9885 notes parsed\n",
      "14 Parsing data/raw/cs6-5gav.mid\n",
      "10691 notes parsed\n",
      "15 Parsing data/raw/cs6-6gig.mid\n",
      "11863 notes parsed\n",
      "16 Parsing data/raw/cs6-2all.mid\n",
      "12548 notes parsed\n",
      "17 Parsing data/raw/cs2-1pre.mid\n",
      "13186 notes parsed\n",
      "18 Parsing data/raw/cs3-1pre.mid\n",
      "14167 notes parsed\n",
      "19 Parsing data/raw/cs3-6gig.mid\n",
      "15128 notes parsed\n",
      "20 Parsing data/raw/cs2-6gig.mid\n",
      "15863 notes parsed\n",
      "21 Parsing data/raw/cs2-4sar.mid\n",
      "16200 notes parsed\n",
      "22 Parsing data/raw/cs3-4sar.mid\n",
      "16541 notes parsed\n",
      "23 Parsing data/raw/cs1-5men.mid\n",
      "17188 notes parsed\n",
      "24 Parsing data/raw/cs1-3cou.mid\n",
      "18008 notes parsed\n",
      "25 Parsing data/raw/cs6-1pre.mid\n",
      "19350 notes parsed\n",
      "26 Parsing data/raw/cs2-2all.mid\n",
      "20043 notes parsed\n",
      "27 Parsing data/raw/cs3-2all.mid\n",
      "20780 notes parsed\n",
      "28 Parsing data/raw/cs1-1pre.mid\n",
      "21438 notes parsed\n",
      "29 Parsing data/raw/cs5-2all.mid\n",
      "22130 notes parsed\n",
      "30 Parsing data/raw/cs4-2all.mid\n",
      "23185 notes parsed\n",
      "31 Parsing data/raw/cs5-5gav.mid\n",
      "24387 notes parsed\n",
      "32 Parsing data/raw/cs4-6gig.mid\n",
      "25358 notes parsed\n",
      "33 Parsing data/raw/cs5-6gig.mid\n",
      "25807 notes parsed\n",
      "34 Parsing data/raw/cs5-4sar.mid\n",
      "26026 notes parsed\n",
      "35 Parsing data/raw/cs4-4sar.mid\n",
      "26346 notes parsed\n",
      "36 Parsing data/raw/cs6-3cou.mid\n",
      "27632 notes parsed\n",
      "Building sequences of length 51\n"
     ]
    },
    {
     "data": {
      "text/plain": [
       "(27581, 27581)"
      ]
     },
     "execution_count": 42,
     "metadata": {},
     "output_type": "execute_result"
    }
   ],
   "execution_count": 42
  },
  {
   "cell_type": "code",
   "id": "bb6d86560abc64bb",
   "metadata": {
    "ExecuteTime": {
     "end_time": "2025-01-05T20:03:43.910181Z",
     "start_time": "2025-01-05T20:03:43.907885Z"
    }
   },
   "source": [
    "example_notes = notes[658]\n",
    "example_durations = durations[658]\n",
    "print(\"\\nNotes string\\n\", example_notes, \"...\")\n",
    "print(\"\\nDuration string\\n\", example_durations, \"...\")"
   ],
   "outputs": [
    {
     "name": "stdout",
     "output_type": "stream",
     "text": [
      "\n",
      "Notes string\n",
      " G3 B3 C4 G3 E3 D3 C3 E3 A3 C4 F#3 A3 C4 E4 D4 C3 B2 G3 A2 G2 D2 A2 G3 F#3 G3 G2 B2 D3 G3 B3 D4 F#4 G4 D4 B3 G3 G2 A3 A3 F#3 G3 A3 D3 E3 F#3 G3 A3 F#3 D3 C3 B2 ...\n",
      "\n",
      "Duration string\n",
      " 0.25 0.25 0.25 0.25 0.25 0.25 0.25 0.25 0.25 0.25 0.25 0.25 0.25 0.25 0.75 0.25 0.25 0.25 0.25 0.25 0.25 0.25 0.25 0.25 0.25 0.25 0.25 0.25 0.25 0.25 0.25 0.25 0.25 0.25 0.25 0.25 0.75 0.25 1.25 0.25 0.25 0.25 0.25 0.25 0.25 0.25 0.25 0.25 0.25 0.25 0.25 ...\n"
     ]
    }
   ],
   "execution_count": 43
  },
  {
   "cell_type": "code",
   "id": "2bf42ad1fc3ad182",
   "metadata": {
    "ExecuteTime": {
     "end_time": "2025-01-05T20:03:44.463978Z",
     "start_time": "2025-01-05T20:03:43.916815Z"
    }
   },
   "source": [
    "def create_dataset(elements):\n",
    "    ds = (\n",
    "        tf.data.Dataset.from_tensor_slices(elements)\n",
    "        .batch(BATCH_SIZE, drop_remainder=True)\n",
    "        .shuffle(1000)\n",
    "    )\n",
    "    vectorize_layer = layers.TextVectorization(\n",
    "        standardize=None, output_mode=\"int\"\n",
    "    )\n",
    "    vectorize_layer.adapt(ds)\n",
    "    vocab = vectorize_layer.get_vocabulary()\n",
    "    return ds, vectorize_layer, vocab\n",
    "\n",
    "\n",
    "notes_seq_ds, notes_vectorize_layer, notes_vocab = create_dataset(notes)\n",
    "durations_seq_ds, durations_vectorize_layer, durations_vocab = create_dataset(\n",
    "    durations\n",
    ");"
   ],
   "outputs": [],
   "execution_count": 44
  },
  {
   "cell_type": "code",
   "id": "89a05381764aa76b",
   "metadata": {
    "ExecuteTime": {
     "end_time": "2025-01-05T20:03:44.482948Z",
     "start_time": "2025-01-05T20:03:44.470512Z"
    }
   },
   "source": [
    "example_tokenised_notes = notes_vectorize_layer(example_notes)\n",
    "example_tokenised_durations = durations_vectorize_layer(example_durations)\n",
    "print(\"{:10} {:10}\".format(\"note token\", \"duration token\"))\n",
    "for i, (note_int, duration_int) in enumerate(\n",
    "    zip(\n",
    "        example_tokenised_notes.numpy()[:11],\n",
    "        example_tokenised_durations.numpy()[:11],\n",
    "    )\n",
    "):\n",
    "    print(f\"{note_int:10}{duration_int:10}\")"
   ],
   "outputs": [
    {
     "name": "stdout",
     "output_type": "stream",
     "text": [
      "note token duration token\n",
      "         2         2\n",
      "         9         2\n",
      "         6         2\n",
      "         2         2\n",
      "         8         2\n",
      "         4         2\n",
      "        13         2\n",
      "         8         2\n",
      "         3         2\n",
      "         6         2\n",
      "        12         2\n"
     ]
    }
   ],
   "execution_count": 45
  },
  {
   "metadata": {
    "ExecuteTime": {
     "end_time": "2025-01-05T20:03:44.491707Z",
     "start_time": "2025-01-05T20:03:44.489971Z"
    }
   },
   "cell_type": "code",
   "source": [
    "print(f\" tokenized notes shape: {example_tokenised_notes.shape}\")\n",
    "print(f\" tokenized durations shape: {example_tokenised_durations.shape}\")"
   ],
   "id": "71da4ceca9ef467f",
   "outputs": [
    {
     "name": "stdout",
     "output_type": "stream",
     "text": [
      " tokenized notes shape: (51,)\n",
      " tokenized durations shape: (51,)\n"
     ]
    }
   ],
   "execution_count": 46
  },
  {
   "cell_type": "code",
   "id": "c9cb04ad698d7224",
   "metadata": {
    "ExecuteTime": {
     "end_time": "2025-01-05T20:03:44.503860Z",
     "start_time": "2025-01-05T20:03:44.501433Z"
    }
   },
   "source": [
    "notes_vocab_size = len(notes_vocab)\n",
    "durations_vocab_size = len(durations_vocab)\n",
    "\n",
    "# Display some token:note mappings\n",
    "print(f\"\\nNOTES_VOCAB: length = {len(notes_vocab)}\")\n",
    "for i, note in enumerate(notes_vocab):\n",
    "    print(f\"{i}: {note}\")\n",
    "\n",
    "print(f\"\\nDURATIONS_VOCAB: length = {len(durations_vocab)}\")\n",
    "# Display some token:duration mappings\n",
    "for i, note in enumerate(durations_vocab):\n",
    "    print(f\"{i}: {note}\")"
   ],
   "outputs": [
    {
     "name": "stdout",
     "output_type": "stream",
     "text": [
      "\n",
      "NOTES_VOCAB: length = 59\n",
      "0: \n",
      "1: [UNK]\n",
      "2: G3\n",
      "3: A3\n",
      "4: D3\n",
      "5: F3\n",
      "6: C4\n",
      "7: D4\n",
      "8: E3\n",
      "9: B3\n",
      "10: E-3\n",
      "11: B-3\n",
      "12: F#3\n",
      "13: C3\n",
      "14: G#3\n",
      "15: E4\n",
      "16: G2\n",
      "17: C#4\n",
      "18: B2\n",
      "19: A2\n",
      "20: B-2\n",
      "21: F#4\n",
      "22: G4\n",
      "23: E-4\n",
      "24: A4\n",
      "25: C#3\n",
      "26: G#2\n",
      "27: F2\n",
      "28: B4\n",
      "29: F4\n",
      "30: D2\n",
      "31: E2\n",
      "32: E-2\n",
      "33: rest\n",
      "34: C2\n",
      "35: F#2\n",
      "36: G#4\n",
      "37: START\n",
      "38: D5\n",
      "39: C#5\n",
      "40: 3/4TS\n",
      "41: E5\n",
      "42: 4/4TS\n",
      "43: E-:major\n",
      "44: C#2\n",
      "45: B-4\n",
      "46: F:major\n",
      "47: C5\n",
      "48: F#5\n",
      "49: D:major\n",
      "50: C:major\n",
      "51: G:major\n",
      "52: G5\n",
      "53: 3/8TS\n",
      "54: 6/8TS\n",
      "55: 3/2TS\n",
      "56: 12/8TS\n",
      "57: E-5\n",
      "58: B-:major\n",
      "\n",
      "DURATIONS_VOCAB: length = 24\n",
      "0: \n",
      "1: [UNK]\n",
      "2: 0.25\n",
      "3: 0.5\n",
      "4: 1.0\n",
      "5: 1/3\n",
      "6: 0.75\n",
      "7: 1/12\n",
      "8: 1.5\n",
      "9: 0.0\n",
      "10: 1/6\n",
      "11: 2.0\n",
      "12: 3.0\n",
      "13: 1.25\n",
      "14: 2.5\n",
      "15: 4/3\n",
      "16: 4.0\n",
      "17: 2/3\n",
      "18: 3.75\n",
      "19: 5.5\n",
      "20: 3.5\n",
      "21: 3.25\n",
      "22: 2.75\n",
      "23: 1.75\n"
     ]
    }
   ],
   "execution_count": 47
  },
  {
   "metadata": {
    "ExecuteTime": {
     "end_time": "2025-01-05T20:03:44.844884Z",
     "start_time": "2025-01-05T20:03:44.512914Z"
    }
   },
   "cell_type": "code",
   "source": [
    "def create_dataset(elements):\n",
    "    ds = (\n",
    "        tf.data.Dataset.from_tensor_slices(elements)\n",
    "        .batch(BATCH_SIZE, drop_remainder=True)\n",
    "        .shuffle(1000)\n",
    "    )\n",
    "    vectorize_layer = layers.TextVectorization(\n",
    "        standardize=None, output_mode=\"int\"\n",
    "    )\n",
    "    vectorize_layer.adapt(ds)\n",
    "    vocab = vectorize_layer.get_vocabulary()\n",
    "    return ds, vectorize_layer, vocab\n",
    "\n",
    "\n",
    "notes_seq_ds, notes_vectorize_layer, notes_vocab = create_dataset(notes)\n",
    "durations_seq_ds, durations_vectorize_layer, durations_vocab = create_dataset(\n",
    "    durations\n",
    ")\n",
    "seq_ds = tf.data.Dataset.zip((notes_seq_ds, durations_seq_ds))"
   ],
   "id": "a476c549fdf74b3e",
   "outputs": [
    {
     "name": "stderr",
     "output_type": "stream",
     "text": [
      "2025-01-05 21:03:44.840499: I tensorflow/core/framework/local_rendezvous.cc:405] Local rendezvous is aborting with status: OUT_OF_RANGE: End of sequence\n"
     ]
    }
   ],
   "execution_count": 48
  },
  {
   "metadata": {
    "ExecuteTime": {
     "end_time": "2025-01-05T20:03:44.852765Z",
     "start_time": "2025-01-05T20:03:44.851563Z"
    }
   },
   "cell_type": "code",
   "source": "",
   "id": "be6efcda10fb351",
   "outputs": [],
   "execution_count": null
  },
  {
   "cell_type": "code",
   "id": "5ddc60c6868f7468",
   "metadata": {
    "ExecuteTime": {
     "end_time": "2025-01-05T20:03:44.899587Z",
     "start_time": "2025-01-05T20:03:44.858753Z"
    }
   },
   "source": [
    "def prepare_inputs(notes, durations):\n",
    "    notes = tf.expand_dims(notes, -1)\n",
    "    durations = tf.expand_dims(durations, -1)\n",
    "    tokenized_notes = notes_vectorize_layer(notes)\n",
    "    tokenized_durations = durations_vectorize_layer(durations)\n",
    "    x = (tokenized_notes[:, :-1], tokenized_durations[:, :-1])\n",
    "    y = (tokenized_notes[:, 1:], tokenized_durations[:, 1:])\n",
    "    return x, y\n",
    "\n",
    "\n",
    "ds = seq_ds.map(prepare_inputs).repeat(DATASET_REPETITIONS)"
   ],
   "outputs": [],
   "execution_count": 49
  },
  {
   "cell_type": "code",
   "id": "229718b5c6407f1",
   "metadata": {
    "ExecuteTime": {
     "end_time": "2025-01-05T20:03:44.949632Z",
     "start_time": "2025-01-05T20:03:44.906324Z"
    }
   },
   "source": [
    "example_x, example_y = ds.take(1).get_single_element()\n",
    "example_x[0].shape, example_x[1].shape, example_y[0].shape, example_y[1].shape"
   ],
   "outputs": [
    {
     "data": {
      "text/plain": [
       "(TensorShape([256, 50]),\n",
       " TensorShape([256, 50]),\n",
       " TensorShape([256, 50]),\n",
       " TensorShape([256, 50]))"
      ]
     },
     "execution_count": 50,
     "metadata": {},
     "output_type": "execute_result"
    }
   ],
   "execution_count": 50
  },
  {
   "cell_type": "code",
   "id": "5c5adb18e8df21b4",
   "metadata": {
    "ExecuteTime": {
     "end_time": "2025-01-05T20:03:44.968255Z",
     "start_time": "2025-01-05T20:03:44.957320Z"
    }
   },
   "source": [
    "def causal_attention_mask(batch_size, n_dest, n_src, dtype):\n",
    "    i = tf.range(n_dest)[:, None]\n",
    "    j = tf.range(n_src)\n",
    "    m = i >= j - n_src + n_dest\n",
    "    mask = tf.cast(m, dtype)\n",
    "    mask = tf.reshape(mask, [1, n_dest, n_src])\n",
    "    mult = tf.concat(\n",
    "        [tf.expand_dims(batch_size, -1), tf.constant([1, 1], dtype=tf.int32)], 0\n",
    "    )\n",
    "    return tf.tile(mask, mult)\n",
    "\n",
    "\n",
    "np.transpose(causal_attention_mask(1, 10, 10, dtype=tf.int32)[0])"
   ],
   "outputs": [
    {
     "data": {
      "text/plain": [
       "array([[1, 1, 1, 1, 1, 1, 1, 1, 1, 1],\n",
       "       [0, 1, 1, 1, 1, 1, 1, 1, 1, 1],\n",
       "       [0, 0, 1, 1, 1, 1, 1, 1, 1, 1],\n",
       "       [0, 0, 0, 1, 1, 1, 1, 1, 1, 1],\n",
       "       [0, 0, 0, 0, 1, 1, 1, 1, 1, 1],\n",
       "       [0, 0, 0, 0, 0, 1, 1, 1, 1, 1],\n",
       "       [0, 0, 0, 0, 0, 0, 1, 1, 1, 1],\n",
       "       [0, 0, 0, 0, 0, 0, 0, 1, 1, 1],\n",
       "       [0, 0, 0, 0, 0, 0, 0, 0, 1, 1],\n",
       "       [0, 0, 0, 0, 0, 0, 0, 0, 0, 1]], dtype=int32)"
      ]
     },
     "execution_count": 51,
     "metadata": {},
     "output_type": "execute_result"
    }
   ],
   "execution_count": 51
  },
  {
   "cell_type": "code",
   "id": "6b3478c7b29a53ae",
   "metadata": {
    "ExecuteTime": {
     "end_time": "2025-01-05T20:03:44.978714Z",
     "start_time": "2025-01-05T20:03:44.974361Z"
    }
   },
   "source": [
    "class TransformerBlock(layers.Layer):\n",
    "    def __init__(\n",
    "        self,\n",
    "        num_heads,\n",
    "        key_dim,\n",
    "        embed_dim,\n",
    "        ff_dim,\n",
    "        name,\n",
    "        dropout_rate=DROPOUT_RATE,\n",
    "    ):\n",
    "        super(TransformerBlock, self).__init__(name=name)\n",
    "        self.num_heads = num_heads\n",
    "        self.key_dim = key_dim\n",
    "        self.embed_dim = embed_dim\n",
    "        self.ff_dim = ff_dim\n",
    "        self.dropout_rate = dropout_rate\n",
    "        self.attn = layers.MultiHeadAttention(\n",
    "            num_heads, key_dim, output_shape=embed_dim\n",
    "        )\n",
    "        self.dropout_1 = layers.Dropout(self.dropout_rate)\n",
    "        self.ln_1 = layers.LayerNormalization(epsilon=1e-6)\n",
    "        self.ffn_1 = layers.Dense(self.ff_dim, activation=\"relu\")\n",
    "        self.ffn_2 = layers.Dense(self.embed_dim)\n",
    "        self.dropout_2 = layers.Dropout(self.dropout_rate)\n",
    "        self.ln_2 = layers.LayerNormalization(epsilon=1e-6)\n",
    "\n",
    "    def call(self, inputs):\n",
    "        input_shape = tf.shape(inputs)\n",
    "        batch_size = input_shape[0]\n",
    "        seq_len = input_shape[1]\n",
    "        causal_mask = causal_attention_mask(\n",
    "            batch_size, seq_len, seq_len, tf.bool\n",
    "        )\n",
    "        attention_output, attention_scores = self.attn(\n",
    "            inputs,\n",
    "            inputs,\n",
    "            attention_mask=causal_mask,\n",
    "            return_attention_scores=True,\n",
    "        )\n",
    "        attention_output = self.dropout_1(attention_output)\n",
    "        out1 = self.ln_1(inputs + attention_output)\n",
    "        ffn_1 = self.ffn_1(out1)\n",
    "        ffn_2 = self.ffn_2(ffn_1)\n",
    "        ffn_output = self.dropout_2(ffn_2)\n",
    "        return (self.ln_2(out1 + ffn_output), attention_scores)\n",
    "\n",
    "    def get_config(self):\n",
    "        config = super().get_config()\n",
    "        config.update(\n",
    "            {\n",
    "                \"key_dim\": self.key_dim,\n",
    "                \"embed_dim\": self.embed_dim,\n",
    "                \"num_heads\": self.num_heads,\n",
    "                \"ff_dim\": self.ff_dim,\n",
    "                \"dropout_rate\": self.dropout_rate,\n",
    "            }\n",
    "        )\n",
    "        return config"
   ],
   "outputs": [],
   "execution_count": 52
  },
  {
   "cell_type": "code",
   "id": "e70168e8d0565239",
   "metadata": {
    "ExecuteTime": {
     "end_time": "2025-01-05T20:03:45.003969Z",
     "start_time": "2025-01-05T20:03:45.001741Z"
    }
   },
   "source": [
    "class TokenAndPositionEmbedding(layers.Layer):\n",
    "    def __init__(self, vocab_size, embed_dim):\n",
    "        super(TokenAndPositionEmbedding, self).__init__()\n",
    "        self.vocab_size = vocab_size\n",
    "        self.embed_dim = embed_dim\n",
    "        self.token_emb = layers.Embedding(\n",
    "            input_dim=vocab_size,\n",
    "            output_dim=embed_dim,\n",
    "            embeddings_initializer=\"he_uniform\",\n",
    "        )\n",
    "        self.pos_emb = SinePositionEncoding()\n",
    "\n",
    "    def call(self, x):\n",
    "        embedding = self.token_emb(x)\n",
    "        positions = self.pos_emb(embedding)\n",
    "        return embedding + positions\n",
    "\n",
    "    def get_config(self):\n",
    "        config = super().get_config()\n",
    "        config.update(\n",
    "            {\n",
    "                \"vocab_size\": self.vocab_size,\n",
    "                \"embed_dim\": self.embed_dim,\n",
    "            }\n",
    "        )\n",
    "        return config"
   ],
   "outputs": [],
   "execution_count": 53
  },
  {
   "metadata": {
    "ExecuteTime": {
     "end_time": "2025-01-05T20:03:45.044544Z",
     "start_time": "2025-01-05T20:03:45.040854Z"
    }
   },
   "cell_type": "code",
   "source": "example_tokenised_notes.shape",
   "id": "67d7d6ec08a0d148",
   "outputs": [
    {
     "data": {
      "text/plain": [
       "TensorShape([51])"
      ]
     },
     "execution_count": 54,
     "metadata": {},
     "output_type": "execute_result"
    }
   ],
   "execution_count": 54
  },
  {
   "cell_type": "code",
   "id": "ee0ae388c157a733",
   "metadata": {
    "ExecuteTime": {
     "end_time": "2025-01-05T20:03:45.279874Z",
     "start_time": "2025-01-05T20:03:45.068Z"
    }
   },
   "source": [
    "import matplotlib.pyplot as plt\n",
    "\n",
    "tpe = TokenAndPositionEmbedding(notes_vocab_size, 32)\n",
    "token_embedding = tpe.token_emb(example_tokenised_notes)\n",
    "position_embedding = tpe.pos_emb(token_embedding)\n",
    "embedding = tpe(example_tokenised_notes)\n",
    "plt.imshow(\n",
    "    np.transpose(token_embedding),\n",
    "    cmap=\"coolwarm\",\n",
    "    interpolation=\"nearest\",\n",
    "    origin=\"lower\",\n",
    ")\n",
    "plt.show()\n",
    "plt.imshow(\n",
    "    np.transpose(position_embedding),\n",
    "    cmap=\"coolwarm\",\n",
    "    interpolation=\"nearest\",\n",
    "    origin=\"lower\",\n",
    ")\n",
    "plt.show()\n",
    "plt.imshow(\n",
    "    np.transpose(embedding),\n",
    "    cmap=\"coolwarm\",\n",
    "    interpolation=\"nearest\",\n",
    "    origin=\"lower\",\n",
    ")\n",
    "plt.show()"
   ],
   "outputs": [
    {
     "data": {
      "text/plain": [
       "<Figure size 640x480 with 1 Axes>"
      ],
      "image/png": "[encoded data removed]"
     },
     "metadata": {
      "image/png": {
       "width": 547,
       "height": 354
      }
     },
     "output_type": "display_data"
    },
    {
     "data": {
      "text/plain": [
       "<Figure size 640x480 with 1 Axes>"
      ],
      "image/png": "[encoded data removed]"
     },
     "metadata": {
      "image/png": {
       "width": 547,
       "height": 354
      }
     },
     "output_type": "display_data"
    },
    {
     "data": {
      "text/plain": [
       "<Figure size 640x480 with 1 Axes>"
      ],
      "image/png": "[encoded data removed]"
     },
     "metadata": {
      "image/png": {
       "width": 547,
       "height": 354
      }
     },
     "output_type": "display_data"
    }
   ],
   "execution_count": 55
  },
  {
   "cell_type": "code",
   "id": "b9c384effdbd9632",
   "metadata": {
    "ExecuteTime": {
     "end_time": "2025-01-05T20:03:45.380855Z",
     "start_time": "2025-01-05T20:03:45.286854Z"
    }
   },
   "source": [
    "note_inputs = layers.Input(shape=(None,), dtype=tf.int32)\n",
    "durations_inputs = layers.Input(shape=(None,), dtype=tf.int32)\n",
    "note_embeddings = TokenAndPositionEmbedding(\n",
    "    notes_vocab_size, EMBEDDING_DIM // 2\n",
    ")(note_inputs)\n",
    "duration_embeddings = TokenAndPositionEmbedding(\n",
    "    durations_vocab_size, EMBEDDING_DIM // 2\n",
    ")(durations_inputs)\n",
    "embeddings = layers.Concatenate()([note_embeddings, duration_embeddings])\n",
    "x, attention_scores = TransformerBlock(\n",
    "    N_HEADS, KEY_DIM, EMBEDDING_DIM, FEED_FORWARD_DIM, name=\"attention\"\n",
    ")(embeddings)\n",
    "note_outputs = layers.Dense(\n",
    "    notes_vocab_size, activation=\"softmax\", name=\"note_outputs\"\n",
    ")(x)\n",
    "duration_outputs = layers.Dense(\n",
    "    durations_vocab_size, activation=\"softmax\", name=\"duration_outputs\"\n",
    ")(x)\n",
    "model = models.Model(\n",
    "    inputs=[note_inputs, durations_inputs],\n",
    "    outputs=[note_outputs, duration_outputs],  # attention_scores\n",
    ")\n",
    "\n",
    "\n",
    "model.compile(\n",
    "    \"adam\",\n",
    "    loss=[\n",
    "        losses.SparseCategoricalCrossentropy(),\n",
    "        losses.SparseCategoricalCrossentropy(),\n",
    "    ],\n",
    ")\n",
    "\n",
    "att_model = models.Model(\n",
    "    inputs=[note_inputs, durations_inputs], outputs=attention_scores\n",
    ")"
   ],
   "outputs": [],
   "execution_count": 56
  },
  {
   "cell_type": "code",
   "id": "afa593e4f814b2a6",
   "metadata": {
    "ExecuteTime": {
     "end_time": "2025-01-05T20:03:45.397341Z",
     "start_time": "2025-01-05T20:03:45.387222Z"
    }
   },
   "source": [
    "model.summary()"
   ],
   "outputs": [
    {
     "data": {
      "text/plain": [
       "\u001B[1mModel: \"functional_2\"\u001B[0m\n"
      ],
      "text/html": [
       "<pre style=\"white-space:pre;overflow-x:auto;line-height:normal;font-family:Menlo,'DejaVu Sans Mono',consolas,'Courier New',monospace\"><span style=\"font-weight: bold\">Model: \"functional_2\"</span>\n",
       "</pre>\n"
      ]
     },
     "metadata": {},
     "output_type": "display_data"
    },
    {
     "data": {
      "text/plain": [
       "┏━━━━━━━━━━━━━━━━━━━━━┳━━━━━━━━━━━━━━━━━━━┳━━━━━━━━━━━━┳━━━━━━━━━━━━━━━━━━━┓\n",
       "┃\u001B[1m \u001B[0m\u001B[1mLayer (type)       \u001B[0m\u001B[1m \u001B[0m┃\u001B[1m \u001B[0m\u001B[1mOutput Shape     \u001B[0m\u001B[1m \u001B[0m┃\u001B[1m \u001B[0m\u001B[1m   Param #\u001B[0m\u001B[1m \u001B[0m┃\u001B[1m \u001B[0m\u001B[1mConnected to     \u001B[0m\u001B[1m \u001B[0m┃\n",
       "┡━━━━━━━━━━━━━━━━━━━━━╇━━━━━━━━━━━━━━━━━━━╇━━━━━━━━━━━━╇━━━━━━━━━━━━━━━━━━━┩\n",
       "│ input_layer_2       │ (\u001B[38;5;45mNone\u001B[0m, \u001B[38;5;45mNone\u001B[0m)      │          \u001B[38;5;34m0\u001B[0m │ -                 │\n",
       "│ (\u001B[38;5;33mInputLayer\u001B[0m)        │                   │            │                   │\n",
       "├─────────────────────┼───────────────────┼────────────┼───────────────────┤\n",
       "│ input_layer_3       │ (\u001B[38;5;45mNone\u001B[0m, \u001B[38;5;45mNone\u001B[0m)      │          \u001B[38;5;34m0\u001B[0m │ -                 │\n",
       "│ (\u001B[38;5;33mInputLayer\u001B[0m)        │                   │            │                   │\n",
       "├─────────────────────┼───────────────────┼────────────┼───────────────────┤\n",
       "│ token_and_position… │ (\u001B[38;5;45mNone\u001B[0m, \u001B[38;5;45mNone\u001B[0m, \u001B[38;5;34m128\u001B[0m) │      \u001B[38;5;34m7,552\u001B[0m │ input_layer_2[\u001B[38;5;34m0\u001B[0m]… │\n",
       "│ (\u001B[38;5;33mTokenAndPositionE…\u001B[0m │                   │            │                   │\n",
       "├─────────────────────┼───────────────────┼────────────┼───────────────────┤\n",
       "│ token_and_position… │ (\u001B[38;5;45mNone\u001B[0m, \u001B[38;5;45mNone\u001B[0m, \u001B[38;5;34m128\u001B[0m) │      \u001B[38;5;34m3,072\u001B[0m │ input_layer_3[\u001B[38;5;34m0\u001B[0m]… │\n",
       "│ (\u001B[38;5;33mTokenAndPositionE…\u001B[0m │                   │            │                   │\n",
       "├─────────────────────┼───────────────────┼────────────┼───────────────────┤\n",
       "│ concatenate_1       │ (\u001B[38;5;45mNone\u001B[0m, \u001B[38;5;45mNone\u001B[0m, \u001B[38;5;34m256\u001B[0m) │          \u001B[38;5;34m0\u001B[0m │ token_and_positi… │\n",
       "│ (\u001B[38;5;33mConcatenate\u001B[0m)       │                   │            │ token_and_positi… │\n",
       "├─────────────────────┼───────────────────┼────────────┼───────────────────┤\n",
       "│ attention           │ [(\u001B[38;5;45mNone\u001B[0m, \u001B[38;5;45mNone\u001B[0m,     │  \u001B[38;5;34m1,447,424\u001B[0m │ concatenate_1[\u001B[38;5;34m0\u001B[0m]… │\n",
       "│ (\u001B[38;5;33mTransformerBlock\u001B[0m)  │ \u001B[38;5;34m256\u001B[0m), (\u001B[38;5;45mNone\u001B[0m, \u001B[38;5;34m5\u001B[0m,   │            │                   │\n",
       "│                     │ \u001B[38;5;45mNone\u001B[0m, \u001B[38;5;45mNone\u001B[0m)]      │            │                   │\n",
       "├─────────────────────┼───────────────────┼────────────┼───────────────────┤\n",
       "│ note_outputs        │ (\u001B[38;5;45mNone\u001B[0m, \u001B[38;5;45mNone\u001B[0m, \u001B[38;5;34m59\u001B[0m)  │     \u001B[38;5;34m15,163\u001B[0m │ attention[\u001B[38;5;34m0\u001B[0m][\u001B[38;5;34m0\u001B[0m]   │\n",
       "│ (\u001B[38;5;33mDense\u001B[0m)             │                   │            │                   │\n",
       "├─────────────────────┼───────────────────┼────────────┼───────────────────┤\n",
       "│ duration_outputs    │ (\u001B[38;5;45mNone\u001B[0m, \u001B[38;5;45mNone\u001B[0m, \u001B[38;5;34m24\u001B[0m)  │      \u001B[38;5;34m6,168\u001B[0m │ attention[\u001B[38;5;34m0\u001B[0m][\u001B[38;5;34m0\u001B[0m]   │\n",
       "│ (\u001B[38;5;33mDense\u001B[0m)             │                   │            │                   │\n",
       "└─────────────────────┴───────────────────┴────────────┴───────────────────┘\n"
      ],
      "text/html": [
       "<pre style=\"white-space:pre;overflow-x:auto;line-height:normal;font-family:Menlo,'DejaVu Sans Mono',consolas,'Courier New',monospace\">┏━━━━━━━━━━━━━━━━━━━━━┳━━━━━━━━━━━━━━━━━━━┳━━━━━━━━━━━━┳━━━━━━━━━━━━━━━━━━━┓\n",
       "┃<span style=\"font-weight: bold\"> Layer (type)        </span>┃<span style=\"font-weight: bold\"> Output Shape      </span>┃<span style=\"font-weight: bold\">    Param # </span>┃<span style=\"font-weight: bold\"> Connected to      </span>┃\n",
       "┡━━━━━━━━━━━━━━━━━━━━━╇━━━━━━━━━━━━━━━━━━━╇━━━━━━━━━━━━╇━━━━━━━━━━━━━━━━━━━┩\n",
       "│ input_layer_2       │ (<span style=\"color: #00d7ff; text-decoration-color: #00d7ff\">None</span>, <span style=\"color: #00d7ff; text-decoration-color: #00d7ff\">None</span>)      │          <span style=\"color: #00af00; text-decoration-color: #00af00\">0</span> │ -                 │\n",
       "│ (<span style=\"color: #0087ff; text-decoration-color: #0087ff\">InputLayer</span>)        │                   │            │                   │\n",
       "├─────────────────────┼───────────────────┼────────────┼───────────────────┤\n",
       "│ input_layer_3       │ (<span style=\"color: #00d7ff; text-decoration-color: #00d7ff\">None</span>, <span style=\"color: #00d7ff; text-decoration-color: #00d7ff\">None</span>)      │          <span style=\"color: #00af00; text-decoration-color: #00af00\">0</span> │ -                 │\n",
       "│ (<span style=\"color: #0087ff; text-decoration-color: #0087ff\">InputLayer</span>)        │                   │            │                   │\n",
       "├─────────────────────┼───────────────────┼────────────┼───────────────────┤\n",
       "│ token_and_position… │ (<span style=\"color: #00d7ff; text-decoration-color: #00d7ff\">None</span>, <span style=\"color: #00d7ff; text-decoration-color: #00d7ff\">None</span>, <span style=\"color: #00af00; text-decoration-color: #00af00\">128</span>) │      <span style=\"color: #00af00; text-decoration-color: #00af00\">7,552</span> │ input_layer_2[<span style=\"color: #00af00; text-decoration-color: #00af00\">0</span>]… │\n",
       "│ (<span style=\"color: #0087ff; text-decoration-color: #0087ff\">TokenAndPositionE…</span> │                   │            │                   │\n",
       "├─────────────────────┼───────────────────┼────────────┼───────────────────┤\n",
       "│ token_and_position… │ (<span style=\"color: #00d7ff; text-decoration-color: #00d7ff\">None</span>, <span style=\"color: #00d7ff; text-decoration-color: #00d7ff\">None</span>, <span style=\"color: #00af00; text-decoration-color: #00af00\">128</span>) │      <span style=\"color: #00af00; text-decoration-color: #00af00\">3,072</span> │ input_layer_3[<span style=\"color: #00af00; text-decoration-color: #00af00\">0</span>]… │\n",
       "│ (<span style=\"color: #0087ff; text-decoration-color: #0087ff\">TokenAndPositionE…</span> │                   │            │                   │\n",
       "├─────────────────────┼───────────────────┼────────────┼───────────────────┤\n",
       "│ concatenate_1       │ (<span style=\"color: #00d7ff; text-decoration-color: #00d7ff\">None</span>, <span style=\"color: #00d7ff; text-decoration-color: #00d7ff\">None</span>, <span style=\"color: #00af00; text-decoration-color: #00af00\">256</span>) │          <span style=\"color: #00af00; text-decoration-color: #00af00\">0</span> │ token_and_positi… │\n",
       "│ (<span style=\"color: #0087ff; text-decoration-color: #0087ff\">Concatenate</span>)       │                   │            │ token_and_positi… │\n",
       "├─────────────────────┼───────────────────┼────────────┼───────────────────┤\n",
       "│ attention           │ [(<span style=\"color: #00d7ff; text-decoration-color: #00d7ff\">None</span>, <span style=\"color: #00d7ff; text-decoration-color: #00d7ff\">None</span>,     │  <span style=\"color: #00af00; text-decoration-color: #00af00\">1,447,424</span> │ concatenate_1[<span style=\"color: #00af00; text-decoration-color: #00af00\">0</span>]… │\n",
       "│ (<span style=\"color: #0087ff; text-decoration-color: #0087ff\">TransformerBlock</span>)  │ <span style=\"color: #00af00; text-decoration-color: #00af00\">256</span>), (<span style=\"color: #00d7ff; text-decoration-color: #00d7ff\">None</span>, <span style=\"color: #00af00; text-decoration-color: #00af00\">5</span>,   │            │                   │\n",
       "│                     │ <span style=\"color: #00d7ff; text-decoration-color: #00d7ff\">None</span>, <span style=\"color: #00d7ff; text-decoration-color: #00d7ff\">None</span>)]      │            │                   │\n",
       "├─────────────────────┼───────────────────┼────────────┼───────────────────┤\n",
       "│ note_outputs        │ (<span style=\"color: #00d7ff; text-decoration-color: #00d7ff\">None</span>, <span style=\"color: #00d7ff; text-decoration-color: #00d7ff\">None</span>, <span style=\"color: #00af00; text-decoration-color: #00af00\">59</span>)  │     <span style=\"color: #00af00; text-decoration-color: #00af00\">15,163</span> │ attention[<span style=\"color: #00af00; text-decoration-color: #00af00\">0</span>][<span style=\"color: #00af00; text-decoration-color: #00af00\">0</span>]   │\n",
       "│ (<span style=\"color: #0087ff; text-decoration-color: #0087ff\">Dense</span>)             │                   │            │                   │\n",
       "├─────────────────────┼───────────────────┼────────────┼───────────────────┤\n",
       "│ duration_outputs    │ (<span style=\"color: #00d7ff; text-decoration-color: #00d7ff\">None</span>, <span style=\"color: #00d7ff; text-decoration-color: #00d7ff\">None</span>, <span style=\"color: #00af00; text-decoration-color: #00af00\">24</span>)  │      <span style=\"color: #00af00; text-decoration-color: #00af00\">6,168</span> │ attention[<span style=\"color: #00af00; text-decoration-color: #00af00\">0</span>][<span style=\"color: #00af00; text-decoration-color: #00af00\">0</span>]   │\n",
       "│ (<span style=\"color: #0087ff; text-decoration-color: #0087ff\">Dense</span>)             │                   │            │                   │\n",
       "└─────────────────────┴───────────────────┴────────────┴───────────────────┘\n",
       "</pre>\n"
      ]
     },
     "metadata": {},
     "output_type": "display_data"
    },
    {
     "data": {
      "text/plain": [
       "\u001B[1m Total params: \u001B[0m\u001B[38;5;34m1,479,379\u001B[0m (5.64 MB)\n"
      ],
      "text/html": [
       "<pre style=\"white-space:pre;overflow-x:auto;line-height:normal;font-family:Menlo,'DejaVu Sans Mono',consolas,'Courier New',monospace\"><span style=\"font-weight: bold\"> Total params: </span><span style=\"color: #00af00; text-decoration-color: #00af00\">1,479,379</span> (5.64 MB)\n",
       "</pre>\n"
      ]
     },
     "metadata": {},
     "output_type": "display_data"
    },
    {
     "data": {
      "text/plain": [
       "\u001B[1m Trainable params: \u001B[0m\u001B[38;5;34m1,479,379\u001B[0m (5.64 MB)\n"
      ],
      "text/html": [
       "<pre style=\"white-space:pre;overflow-x:auto;line-height:normal;font-family:Menlo,'DejaVu Sans Mono',consolas,'Courier New',monospace\"><span style=\"font-weight: bold\"> Trainable params: </span><span style=\"color: #00af00; text-decoration-color: #00af00\">1,479,379</span> (5.64 MB)\n",
       "</pre>\n"
      ]
     },
     "metadata": {},
     "output_type": "display_data"
    },
    {
     "data": {
      "text/plain": [
       "\u001B[1m Non-trainable params: \u001B[0m\u001B[38;5;34m0\u001B[0m (0.00 B)\n"
      ],
      "text/html": [
       "<pre style=\"white-space:pre;overflow-x:auto;line-height:normal;font-family:Menlo,'DejaVu Sans Mono',consolas,'Courier New',monospace\"><span style=\"font-weight: bold\"> Non-trainable params: </span><span style=\"color: #00af00; text-decoration-color: #00af00\">0</span> (0.00 B)\n",
       "</pre>\n"
      ]
     },
     "metadata": {},
     "output_type": "display_data"
    }
   ],
   "execution_count": 57
  },
  {
   "cell_type": "code",
   "id": "2e83b81231087f07",
   "metadata": {
    "ExecuteTime": {
     "end_time": "2025-01-05T20:03:45.410651Z",
     "start_time": "2025-01-05T20:03:45.408700Z"
    }
   },
   "source": "",
   "outputs": [],
   "execution_count": null
  },
  {
   "cell_type": "code",
   "id": "c8ea5a963e6c5841",
   "metadata": {
    "ExecuteTime": {
     "end_time": "2025-01-05T20:03:45.422652Z",
     "start_time": "2025-01-05T20:03:45.420580Z"
    }
   },
   "source": [
    "# Create a model save checkpoint\n",
    "model_checkpoint_callback = callbacks.ModelCheckpoint(\n",
    "    filepath=\"./model.weights.h5\",\n",
    "    save_weights_only=True,\n",
    "    save_freq=\"epoch\",\n",
    "    verbose=0,\n",
    ")\n",
    "\n",
    "\n",
    "# Tokenize starting prompt\n"
   ],
   "outputs": [],
   "execution_count": 58
  },
  {
   "cell_type": "code",
   "id": "3f3367e84d0c59d0",
   "metadata": {
    "ExecuteTime": {
     "end_time": "2025-01-05T20:22:42.356289Z",
     "start_time": "2025-01-05T20:03:45.432041Z"
    }
   },
   "source": [
    "model.fit(\n",
    "    ds,\n",
    "    epochs=EPOCHS,\n",
    ")"
   ],
   "outputs": [
    {
     "name": "stdout",
     "output_type": "stream",
     "text": [
      "Epoch 1/5000\n",
      "\u001B[1m107/107\u001B[0m \u001B[32m━━━━━━━━━━━━━━━━━━━━\u001B[0m\u001B[37m\u001B[0m \u001B[1m64s\u001B[0m 582ms/step - duration_outputs_loss: 1.2353 - loss: 4.8369 - note_outputs_loss: 3.6015\n",
      "Epoch 2/5000\n",
      "\u001B[1m107/107\u001B[0m \u001B[32m━━━━━━━━━━━━━━━━━━━━\u001B[0m\u001B[37m\u001B[0m \u001B[1m63s\u001B[0m 590ms/step - duration_outputs_loss: 0.6320 - loss: 3.4289 - note_outputs_loss: 2.7970\n",
      "Epoch 3/5000\n",
      "\u001B[1m107/107\u001B[0m \u001B[32m━━━━━━━━━━━━━━━━━━━━\u001B[0m\u001B[37m\u001B[0m \u001B[1m65s\u001B[0m 606ms/step - duration_outputs_loss: 0.7091 - loss: 3.3505 - note_outputs_loss: 2.6414\n",
      "Epoch 4/5000\n",
      "\u001B[1m107/107\u001B[0m \u001B[32m━━━━━━━━━━━━━━━━━━━━\u001B[0m\u001B[37m\u001B[0m \u001B[1m62s\u001B[0m 580ms/step - duration_outputs_loss: 0.6249 - loss: 3.1236 - note_outputs_loss: 2.4987\n",
      "Epoch 5/5000\n",
      "\u001B[1m107/107\u001B[0m \u001B[32m━━━━━━━━━━━━━━━━━━━━\u001B[0m\u001B[37m\u001B[0m \u001B[1m63s\u001B[0m 588ms/step - duration_outputs_loss: 0.6048 - loss: 3.0098 - note_outputs_loss: 2.4049\n",
      "Epoch 6/5000\n",
      "\u001B[1m107/107\u001B[0m \u001B[32m━━━━━━━━━━━━━━━━━━━━\u001B[0m\u001B[37m\u001B[0m \u001B[1m62s\u001B[0m 583ms/step - duration_outputs_loss: 0.5690 - loss: 2.9100 - note_outputs_loss: 2.3410\n",
      "Epoch 7/5000\n",
      "\u001B[1m107/107\u001B[0m \u001B[32m━━━━━━━━━━━━━━━━━━━━\u001B[0m\u001B[37m\u001B[0m \u001B[1m62s\u001B[0m 580ms/step - duration_outputs_loss: 0.5535 - loss: 2.8473 - note_outputs_loss: 2.2938\n",
      "Epoch 8/5000\n",
      "\u001B[1m107/107\u001B[0m \u001B[32m━━━━━━━━━━━━━━━━━━━━\u001B[0m\u001B[37m\u001B[0m \u001B[1m64s\u001B[0m 599ms/step - duration_outputs_loss: 0.5614 - loss: 2.8376 - note_outputs_loss: 2.2762\n",
      "Epoch 9/5000\n",
      "\u001B[1m107/107\u001B[0m \u001B[32m━━━━━━━━━━━━━━━━━━━━\u001B[0m\u001B[37m\u001B[0m \u001B[1m281s\u001B[0m 3s/step - duration_outputs_loss: 0.5576 - loss: 2.7672 - note_outputs_loss: 2.2095\n",
      "Epoch 10/5000\n",
      "\u001B[1m107/107\u001B[0m \u001B[32m━━━━━━━━━━━━━━━━━━━━\u001B[0m\u001B[37m\u001B[0m \u001B[1m250s\u001B[0m 2s/step - duration_outputs_loss: 0.5242 - loss: 2.7356 - note_outputs_loss: 2.2114\n",
      "Epoch 11/5000\n",
      "\u001B[1m107/107\u001B[0m \u001B[32m━━━━━━━━━━━━━━━━━━━━\u001B[0m\u001B[37m\u001B[0m \u001B[1m62s\u001B[0m 580ms/step - duration_outputs_loss: 0.5770 - loss: 2.7069 - note_outputs_loss: 2.1299\n",
      "Epoch 12/5000\n",
      "\u001B[1m 60/107\u001B[0m \u001B[32m━━━━━━━━━━━\u001B[0m\u001B[37m━━━━━━━━━\u001B[0m \u001B[1m29s\u001B[0m 620ms/step - duration_outputs_loss: 0.5617 - loss: 2.7061 - note_outputs_loss: 2.1444"
     ]
    },
    {
     "name": "stderr",
     "output_type": "stream",
     "text": [
      "\n",
      "KeyboardInterrupt\n",
      "\n"
     ]
    }
   ],
   "execution_count": 59
  }
 ],
 "metadata": {
  "kernelspec": {
   "display_name": ".venv",
   "language": "python",
   "name": "python3"
  },
  "language_info": {
   "codemirror_mode": {
    "name": "ipython",
    "version": 3
   },
   "file_extension": ".py",
   "mimetype": "text/x-python",
   "name": "python",
   "nbconvert_exporter": "python",
   "pygments_lexer": "ipython3",
   "version": "3.12.3"
  }
 },
 "nbformat": 4,
 "nbformat_minor": 5
}
